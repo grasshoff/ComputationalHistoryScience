{
 "cells": [
  {
   "cell_type": "markdown",
   "metadata": {},
   "source": [
    "# Data handling\n",
    "## Lesen von Daten, Import\n",
    "http://pandas.pydata.org/pandas-docs/stable/10min.html"
   ]
  },
  {
   "cell_type": "code",
   "execution_count": 20,
   "metadata": {
    "collapsed": true
   },
   "outputs": [],
   "source": [
    "import pandas as pd"
   ]
  },
  {
   "cell_type": "code",
   "execution_count": 21,
   "metadata": {
    "collapsed": true
   },
   "outputs": [],
   "source": [
    "diagrams=pd.read_json('diaattr.json')"
   ]
  },
  {
   "cell_type": "markdown",
   "metadata": {},
   "source": [
    "## Anzeigen, Ausgabe von Inhalten"
   ]
  },
  {
   "cell_type": "code",
   "execution_count": 23,
   "metadata": {
    "collapsed": false
   },
   "outputs": [
    {
     "data": {
      "text/html": [
       "<div>\n",
       "<table border=\"1\" class=\"dataframe\">\n",
       "  <thead>\n",
       "    <tr style=\"text-align: right;\">\n",
       "      <th></th>\n",
       "      <th>altID</th>\n",
       "      <th>author</th>\n",
       "      <th>biblio</th>\n",
       "      <th>diaAttr</th>\n",
       "      <th>diaID</th>\n",
       "      <th>diaTyp</th>\n",
       "      <th>diaURL</th>\n",
       "      <th>foliopage</th>\n",
       "      <th>manID</th>\n",
       "      <th>manURL</th>\n",
       "      <th>textID</th>\n",
       "      <th>textURL</th>\n",
       "      <th>year</th>\n",
       "    </tr>\n",
       "  </thead>\n",
       "  <tbody>\n",
       "    <tr>\n",
       "      <th>0</th>\n",
       "      <td>Plin4</td>\n",
       "      <td>Plinius</td>\n",
       "      <td>Vaticano BAV, Ross. 247</td>\n",
       "      <td>[{'M2.16': 1, 'M2.23': 0, 'M2.14': 1, 'M2.1': ...</td>\n",
       "      <td>MAPD0668</td>\n",
       "      <td>2</td>\n",
       "      <td>Dl_1&amp;pn=396&amp;dw=1858&amp;dh=901&amp;ww=0.8926&amp;wh=0.6552...</td>\n",
       "      <td>200v</td>\n",
       "      <td>DL(1)</td>\n",
       "      <td>Dl_1&amp;pn=1</td>\n",
       "      <td>DL(1)_A</td>\n",
       "      <td></td>\n",
       "      <td>IX</td>\n",
       "    </tr>\n",
       "  </tbody>\n",
       "</table>\n",
       "</div>"
      ],
      "text/plain": [
       "   altID   author                   biblio  \\\n",
       "0  Plin4  Plinius  Vaticano BAV, Ross. 247   \n",
       "\n",
       "                                             diaAttr     diaID diaTyp  \\\n",
       "0  [{'M2.16': 1, 'M2.23': 0, 'M2.14': 1, 'M2.1': ...  MAPD0668      2   \n",
       "\n",
       "                                              diaURL foliopage  manID  \\\n",
       "0  Dl_1&pn=396&dw=1858&dh=901&ww=0.8926&wh=0.6552...      200v  DL(1)   \n",
       "\n",
       "      manURL   textID textURL year  \n",
       "0  Dl_1&pn=1  DL(1)_A           IX  "
      ]
     },
     "execution_count": 23,
     "metadata": {},
     "output_type": "execute_result"
    }
   ],
   "source": [
    "diagrams.head(1)"
   ]
  },
  {
   "cell_type": "code",
   "execution_count": 30,
   "metadata": {
    "collapsed": false
   },
   "outputs": [
    {
     "data": {
      "text/plain": [
       "0     Plin4\n",
       "1    Plin41\n",
       "2    Plin67\n",
       "Name: altID, dtype: object"
      ]
     },
     "execution_count": 30,
     "metadata": {},
     "output_type": "execute_result"
    }
   ],
   "source": [
    "diagrams['altID'].head(3)"
   ]
  },
  {
   "cell_type": "markdown",
   "metadata": {},
   "source": [
    "### Indizes, Subsets"
   ]
  },
  {
   "cell_type": "markdown",
   "metadata": {},
   "source": [
    "Einzelne Zeilen mit *loc* und *iloc*"
   ]
  },
  {
   "cell_type": "code",
   "execution_count": 24,
   "metadata": {
    "collapsed": false
   },
   "outputs": [
    {
     "data": {
      "text/plain": [
       "altID                                                    Plin6\n",
       "author                                                 Plinius\n",
       "biblio                                         Paris BN, 11130\n",
       "diaAttr      [{'M2.16': 1, 'M2.23': 0, 'M2.14': 0, 'M2.1': ...\n",
       "diaID                                                 MAPD0690\n",
       "diaTyp                                                       2\n",
       "diaURL            Jk_2&pn=1&dw=1858&dh=901&ww=1&wh=1&wx=0&wy=0\n",
       "foliopage                                                  74v\n",
       "manID                                                    JK(2)\n",
       "manURL                                               Jk_2&pn=1\n",
       "textID                                                 JK(2)_A\n",
       "textURL                                                       \n",
       "year                                                       XII\n",
       "Name: 4, dtype: object"
      ]
     },
     "execution_count": 24,
     "metadata": {},
     "output_type": "execute_result"
    }
   ],
   "source": [
    "diagrams.loc[4]"
   ]
  },
  {
   "cell_type": "code",
   "execution_count": 25,
   "metadata": {
    "collapsed": false
   },
   "outputs": [
    {
     "data": {
      "text/plain": [
       "0    MAPD0668\n",
       "1    MAPD0670\n",
       "2    MAPD0698\n",
       "3    MAPD0714\n",
       "Name: diaID, dtype: object"
      ]
     },
     "execution_count": 25,
     "metadata": {},
     "output_type": "execute_result"
    }
   ],
   "source": [
    "diagrams.ix[diagrams.author=='Plinius'].diaID.ix[0:3]"
   ]
  },
  {
   "cell_type": "code",
   "execution_count": 32,
   "metadata": {
    "collapsed": false
   },
   "outputs": [
    {
     "data": {
      "text/plain": [
       "314    MAPD0345\n",
       "411    MAPD0347\n",
       "466    MAPD0386\n",
       "Name: diaID, dtype: object"
      ]
     },
     "execution_count": 32,
     "metadata": {},
     "output_type": "execute_result"
    }
   ],
   "source": [
    "diagrams.ix[diagrams.author=='Capella'].diaID.head(3)"
   ]
  },
  {
   "cell_type": "markdown",
   "metadata": {},
   "source": [
    "## Aufruf von keys\n",
    "Auf objekte rufen keys die Menge der Werte dieser Keys auf"
   ]
  },
  {
   "cell_type": "code",
   "execution_count": 27,
   "metadata": {
    "collapsed": false
   },
   "outputs": [
    {
     "data": {
      "text/plain": [
       "12    Plinius\n",
       "14    Plinius\n",
       "16    Plinius\n",
       "18    Plinius\n",
       "20    Plinius\n",
       "Name: author, dtype: object"
      ]
     },
     "execution_count": 27,
     "metadata": {},
     "output_type": "execute_result"
    }
   ],
   "source": [
    "diagrams.loc[12:20:2].author"
   ]
  },
  {
   "cell_type": "code",
   "execution_count": 29,
   "metadata": {
    "collapsed": false
   },
   "outputs": [
    {
     "data": {
      "text/html": [
       "<div>\n",
       "<table border=\"1\" class=\"dataframe\">\n",
       "  <thead>\n",
       "    <tr style=\"text-align: right;\">\n",
       "      <th></th>\n",
       "      <th>author</th>\n",
       "      <th>textID</th>\n",
       "      <th>year</th>\n",
       "    </tr>\n",
       "  </thead>\n",
       "  <tbody>\n",
       "    <tr>\n",
       "      <th>12</th>\n",
       "      <td>Plinius</td>\n",
       "      <td>MP(2)_A</td>\n",
       "      <td>IX(820)</td>\n",
       "    </tr>\n",
       "    <tr>\n",
       "      <th>13</th>\n",
       "      <td>Plinius</td>\n",
       "      <td>MP(2)_A</td>\n",
       "      <td>IX(820)</td>\n",
       "    </tr>\n",
       "    <tr>\n",
       "      <th>14</th>\n",
       "      <td>Plinius</td>\n",
       "      <td>PA(1)_A</td>\n",
       "      <td>XII(in)</td>\n",
       "    </tr>\n",
       "    <tr>\n",
       "      <th>15</th>\n",
       "      <td>Plinius</td>\n",
       "      <td>PA(1)_A</td>\n",
       "      <td>XII(in)</td>\n",
       "    </tr>\n",
       "  </tbody>\n",
       "</table>\n",
       "</div>"
      ],
      "text/plain": [
       "     author   textID     year\n",
       "12  Plinius  MP(2)_A  IX(820)\n",
       "13  Plinius  MP(2)_A  IX(820)\n",
       "14  Plinius  PA(1)_A  XII(in)\n",
       "15  Plinius  PA(1)_A  XII(in)"
      ]
     },
     "execution_count": 29,
     "metadata": {},
     "output_type": "execute_result"
    }
   ],
   "source": [
    "diagrams.loc[12:15,[\"author\",\"textID\",\"year\"]]"
   ]
  }
 ],
 "metadata": {
  "anaconda-cloud": {},
  "kernelspec": {
   "display_name": "Python [Root]",
   "language": "python",
   "name": "Python [Root]"
  },
  "language_info": {
   "codemirror_mode": {
    "name": "ipython",
    "version": 3
   },
   "file_extension": ".py",
   "mimetype": "text/x-python",
   "name": "python",
   "nbconvert_exporter": "python",
   "pygments_lexer": "ipython3",
   "version": "3.5.2"
  }
 },
 "nbformat": 4,
 "nbformat_minor": 0
}
