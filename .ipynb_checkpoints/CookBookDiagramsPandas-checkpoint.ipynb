{
 "cells": [
  {
   "cell_type": "markdown",
   "metadata": {},
   "source": [
    "# Data handling\n",
    "## Allgemeine Beschreibung von Pandas\n",
    "  ++ Serien: Listen von Objekten\n",
    "  ++ Dataframes: Dictionaries\n",
    "  ++ Panels\n",
    "  http://www.gregreda.com/2013/10/26/intro-to-pandas-data-structures/\n",
    "  \n",
    "## Lesen von Daten, Import\n",
    "http://pandas.pydata.org/pandas-docs/stable/10min.html"
   ]
  },
  {
   "cell_type": "code",
   "execution_count": 140,
   "metadata": {
    "collapsed": true
   },
   "outputs": [],
   "source": [
    "import pandas as pd"
   ]
  },
  {
   "cell_type": "code",
   "execution_count": 141,
   "metadata": {
    "collapsed": true
   },
   "outputs": [],
   "source": [
    "diagrams=pd.read_json('diaattr.json')"
   ]
  },
  {
   "cell_type": "markdown",
   "metadata": {},
   "source": [
    "### Daten von einer Internet Ressource"
   ]
  },
  {
   "cell_type": "code",
   "execution_count": 142,
   "metadata": {
    "collapsed": false
   },
   "outputs": [
    {
     "data": {
      "text/html": [
       "<div>\n",
       "<table border=\"1\" class=\"dataframe\">\n",
       "  <thead>\n",
       "    <tr style=\"text-align: right;\">\n",
       "      <th></th>\n",
       "      <th>rank</th>\n",
       "      <th>sandwich</th>\n",
       "      <th>restaurant</th>\n",
       "      <th>description</th>\n",
       "      <th>price</th>\n",
       "      <th>address</th>\n",
       "      <th>city</th>\n",
       "      <th>phone</th>\n",
       "      <th>website</th>\n",
       "      <th>full_address</th>\n",
       "      <th>formatted_address</th>\n",
       "      <th>lat</th>\n",
       "      <th>lng</th>\n",
       "    </tr>\n",
       "  </thead>\n",
       "  <tbody>\n",
       "    <tr>\n",
       "      <th>0</th>\n",
       "      <td>1</td>\n",
       "      <td>BLT</td>\n",
       "      <td>Old Oak Tap</td>\n",
       "      <td>The B is applewood smoked&amp;mdash;nice and snapp...</td>\n",
       "      <td>$10</td>\n",
       "      <td>2109 W. Chicago Ave.</td>\n",
       "      <td>Chicago</td>\n",
       "      <td>773-772-0406</td>\n",
       "      <td>theoldoaktap.com</td>\n",
       "      <td>2109 W. Chicago Ave., Chicago</td>\n",
       "      <td>2109 West Chicago Avenue, Chicago, IL 60622, USA</td>\n",
       "      <td>41.895734</td>\n",
       "      <td>-87.679960</td>\n",
       "    </tr>\n",
       "    <tr>\n",
       "      <th>1</th>\n",
       "      <td>2</td>\n",
       "      <td>Fried Bologna</td>\n",
       "      <td>Au Cheval</td>\n",
       "      <td>Thought your bologna-eating days had retired w...</td>\n",
       "      <td>$9</td>\n",
       "      <td>800 W. Randolph St.</td>\n",
       "      <td>Chicago</td>\n",
       "      <td>312-929-4580</td>\n",
       "      <td>aucheval.tumblr.com</td>\n",
       "      <td>800 W. Randolph St., Chicago</td>\n",
       "      <td>800 West Randolph Street, Chicago, IL 60607, USA</td>\n",
       "      <td>41.884672</td>\n",
       "      <td>-87.647754</td>\n",
       "    </tr>\n",
       "    <tr>\n",
       "      <th>2</th>\n",
       "      <td>3</td>\n",
       "      <td>Woodland Mushroom</td>\n",
       "      <td>Xoco</td>\n",
       "      <td>Leave it to Rick Bayless and crew to come up w...</td>\n",
       "      <td>$9.50.</td>\n",
       "      <td>445 N. Clark St.</td>\n",
       "      <td>Chicago</td>\n",
       "      <td>312-334-3688</td>\n",
       "      <td>rickbayless.com</td>\n",
       "      <td>445 N. Clark St., Chicago</td>\n",
       "      <td>445 North Clark Street, Chicago, IL 60654, USA</td>\n",
       "      <td>41.890602</td>\n",
       "      <td>-87.630925</td>\n",
       "    </tr>\n",
       "  </tbody>\n",
       "</table>\n",
       "</div>"
      ],
      "text/plain": [
       "   rank           sandwich   restaurant  \\\n",
       "0     1                BLT  Old Oak Tap   \n",
       "1     2      Fried Bologna    Au Cheval   \n",
       "2     3  Woodland Mushroom         Xoco   \n",
       "\n",
       "                                         description   price  \\\n",
       "0  The B is applewood smoked&mdash;nice and snapp...     $10   \n",
       "1  Thought your bologna-eating days had retired w...      $9   \n",
       "2  Leave it to Rick Bayless and crew to come up w...  $9.50.   \n",
       "\n",
       "                address     city         phone              website  \\\n",
       "0  2109 W. Chicago Ave.  Chicago  773-772-0406     theoldoaktap.com   \n",
       "1   800 W. Randolph St.  Chicago  312-929-4580  aucheval.tumblr.com   \n",
       "2      445 N. Clark St.  Chicago  312-334-3688      rickbayless.com   \n",
       "\n",
       "                    full_address  \\\n",
       "0  2109 W. Chicago Ave., Chicago   \n",
       "1   800 W. Randolph St., Chicago   \n",
       "2      445 N. Clark St., Chicago   \n",
       "\n",
       "                                  formatted_address        lat        lng  \n",
       "0  2109 West Chicago Avenue, Chicago, IL 60622, USA  41.895734 -87.679960  \n",
       "1  800 West Randolph Street, Chicago, IL 60607, USA  41.884672 -87.647754  \n",
       "2    445 North Clark Street, Chicago, IL 60654, USA  41.890602 -87.630925  "
      ]
     },
     "execution_count": 142,
     "metadata": {},
     "output_type": "execute_result"
    }
   ],
   "source": [
    "url = 'https://raw.github.com/gjreda/best-sandwiches/master/data/best-sandwiches-geocode.tsv'\n",
    "\n",
    "# fetch the text from the URL and read it into a DataFrame\n",
    "from_url = pd.read_table(url, sep='\\t')\n",
    "from_url.head(3)"
   ]
  },
  {
   "cell_type": "code",
   "execution_count": 143,
   "metadata": {
    "collapsed": false
   },
   "outputs": [
    {
     "data": {
      "text/html": [
       "<div>\n",
       "<table border=\"1\" class=\"dataframe\">\n",
       "  <thead>\n",
       "    <tr style=\"text-align: right;\">\n",
       "      <th></th>\n",
       "      <th>altID</th>\n",
       "      <th>author</th>\n",
       "      <th>biblio</th>\n",
       "      <th>diaAttr</th>\n",
       "      <th>diaID</th>\n",
       "      <th>diaTyp</th>\n",
       "      <th>diaURL</th>\n",
       "      <th>foliopage</th>\n",
       "      <th>manID</th>\n",
       "      <th>manURL</th>\n",
       "      <th>textID</th>\n",
       "      <th>textURL</th>\n",
       "      <th>year</th>\n",
       "    </tr>\n",
       "  </thead>\n",
       "  <tbody>\n",
       "    <tr>\n",
       "      <th>0</th>\n",
       "      <td>Plin4</td>\n",
       "      <td>Plinius</td>\n",
       "      <td>Vaticano BAV, Ross. 247</td>\n",
       "      <td>[{'M2.16': 1, 'M2.23': 0, 'M2.14': 1, 'M2.1': ...</td>\n",
       "      <td>MAPD0668</td>\n",
       "      <td>2</td>\n",
       "      <td>Dl_1&amp;pn=396&amp;dw=1858&amp;dh=901&amp;ww=0.8926&amp;wh=0.6552...</td>\n",
       "      <td>200v</td>\n",
       "      <td>DL(1)</td>\n",
       "      <td>Dl_1&amp;pn=1</td>\n",
       "      <td>DL(1)_A</td>\n",
       "      <td></td>\n",
       "      <td>IX</td>\n",
       "    </tr>\n",
       "    <tr>\n",
       "      <th>1</th>\n",
       "      <td>Plin41</td>\n",
       "      <td>Plinius</td>\n",
       "      <td>Vaticano BAV, Ross. 247</td>\n",
       "      <td>[{'M3.6': 1, 'M3.9': 0, 'M3.23': 0, 'M3.18': 1...</td>\n",
       "      <td>MAPD0670</td>\n",
       "      <td>3</td>\n",
       "      <td>Dl_1&amp;pn=395&amp;dw=1858&amp;dh=901&amp;ww=0.9617&amp;wh=0.7723...</td>\n",
       "      <td>200r</td>\n",
       "      <td>DL(1)</td>\n",
       "      <td>Dl_1&amp;pn=1</td>\n",
       "      <td>DL(1)_A</td>\n",
       "      <td></td>\n",
       "      <td>IX</td>\n",
       "    </tr>\n",
       "  </tbody>\n",
       "</table>\n",
       "</div>"
      ],
      "text/plain": [
       "    altID   author                   biblio  \\\n",
       "0   Plin4  Plinius  Vaticano BAV, Ross. 247   \n",
       "1  Plin41  Plinius  Vaticano BAV, Ross. 247   \n",
       "\n",
       "                                             diaAttr     diaID diaTyp  \\\n",
       "0  [{'M2.16': 1, 'M2.23': 0, 'M2.14': 1, 'M2.1': ...  MAPD0668      2   \n",
       "1  [{'M3.6': 1, 'M3.9': 0, 'M3.23': 0, 'M3.18': 1...  MAPD0670      3   \n",
       "\n",
       "                                              diaURL foliopage  manID  \\\n",
       "0  Dl_1&pn=396&dw=1858&dh=901&ww=0.8926&wh=0.6552...      200v  DL(1)   \n",
       "1  Dl_1&pn=395&dw=1858&dh=901&ww=0.9617&wh=0.7723...      200r  DL(1)   \n",
       "\n",
       "      manURL   textID textURL year  \n",
       "0  Dl_1&pn=1  DL(1)_A           IX  \n",
       "1  Dl_1&pn=1  DL(1)_A           IX  "
      ]
     },
     "execution_count": 143,
     "metadata": {},
     "output_type": "execute_result"
    }
   ],
   "source": [
    "url = 'https://raw.githubusercontent.com/grasshoff/ComputationalHistoryScience/master/diaattr.json'\n",
    "from_url = pd.read_json(url)\n",
    "from_url.head(2)"
   ]
  },
  {
   "cell_type": "markdown",
   "metadata": {},
   "source": [
    "## Kopieren von Dataframes"
   ]
  },
  {
   "cell_type": "code",
   "execution_count": 144,
   "metadata": {
    "collapsed": true
   },
   "outputs": [],
   "source": [
    "dia2=diagrams.copy()"
   ]
  },
  {
   "cell_type": "markdown",
   "metadata": {},
   "source": [
    "# Anzeigen, Ausgabe von Inhalten"
   ]
  },
  {
   "cell_type": "code",
   "execution_count": 145,
   "metadata": {
    "collapsed": false
   },
   "outputs": [
    {
     "data": {
      "text/html": [
       "<div>\n",
       "<table border=\"1\" class=\"dataframe\">\n",
       "  <thead>\n",
       "    <tr style=\"text-align: right;\">\n",
       "      <th></th>\n",
       "      <th>altID</th>\n",
       "      <th>author</th>\n",
       "      <th>biblio</th>\n",
       "      <th>diaAttr</th>\n",
       "      <th>diaID</th>\n",
       "      <th>diaTyp</th>\n",
       "      <th>diaURL</th>\n",
       "      <th>foliopage</th>\n",
       "      <th>manID</th>\n",
       "      <th>manURL</th>\n",
       "      <th>textID</th>\n",
       "      <th>textURL</th>\n",
       "      <th>year</th>\n",
       "    </tr>\n",
       "  </thead>\n",
       "  <tbody>\n",
       "    <tr>\n",
       "      <th>0</th>\n",
       "      <td>Plin4</td>\n",
       "      <td>Plinius</td>\n",
       "      <td>Vaticano BAV, Ross. 247</td>\n",
       "      <td>[{'M2.16': 1, 'M2.23': 0, 'M2.14': 1, 'M2.1': ...</td>\n",
       "      <td>MAPD0668</td>\n",
       "      <td>2</td>\n",
       "      <td>Dl_1&amp;pn=396&amp;dw=1858&amp;dh=901&amp;ww=0.8926&amp;wh=0.6552...</td>\n",
       "      <td>200v</td>\n",
       "      <td>DL(1)</td>\n",
       "      <td>Dl_1&amp;pn=1</td>\n",
       "      <td>DL(1)_A</td>\n",
       "      <td></td>\n",
       "      <td>IX</td>\n",
       "    </tr>\n",
       "  </tbody>\n",
       "</table>\n",
       "</div>"
      ],
      "text/plain": [
       "   altID   author                   biblio  \\\n",
       "0  Plin4  Plinius  Vaticano BAV, Ross. 247   \n",
       "\n",
       "                                             diaAttr     diaID diaTyp  \\\n",
       "0  [{'M2.16': 1, 'M2.23': 0, 'M2.14': 1, 'M2.1': ...  MAPD0668      2   \n",
       "\n",
       "                                              diaURL foliopage  manID  \\\n",
       "0  Dl_1&pn=396&dw=1858&dh=901&ww=0.8926&wh=0.6552...      200v  DL(1)   \n",
       "\n",
       "      manURL   textID textURL year  \n",
       "0  Dl_1&pn=1  DL(1)_A           IX  "
      ]
     },
     "execution_count": 145,
     "metadata": {},
     "output_type": "execute_result"
    }
   ],
   "source": [
    "diagrams.head(1)"
   ]
  },
  {
   "cell_type": "code",
   "execution_count": 146,
   "metadata": {
    "collapsed": false
   },
   "outputs": [
    {
     "data": {
      "text/plain": [
       "0     Plin4\n",
       "1    Plin41\n",
       "2    Plin67\n",
       "Name: altID, dtype: object"
      ]
     },
     "execution_count": 146,
     "metadata": {},
     "output_type": "execute_result"
    }
   ],
   "source": [
    "diagrams['altID'].head(3)"
   ]
  },
  {
   "cell_type": "markdown",
   "metadata": {},
   "source": [
    "# Auswahl der Zeilen"
   ]
  },
  {
   "cell_type": "markdown",
   "metadata": {},
   "source": [
    "### Indizes, Subsets"
   ]
  },
  {
   "cell_type": "markdown",
   "metadata": {},
   "source": [
    "Einzelne Zeilen mit *loc* und *iloc*"
   ]
  },
  {
   "cell_type": "code",
   "execution_count": 147,
   "metadata": {
    "collapsed": false
   },
   "outputs": [
    {
     "data": {
      "text/plain": [
       "altID                                                    Plin6\n",
       "author                                                 Plinius\n",
       "biblio                                         Paris BN, 11130\n",
       "diaAttr      [{'M2.16': 1, 'M2.23': 0, 'M2.14': 0, 'M2.1': ...\n",
       "diaID                                                 MAPD0690\n",
       "diaTyp                                                       2\n",
       "diaURL            Jk_2&pn=1&dw=1858&dh=901&ww=1&wh=1&wx=0&wy=0\n",
       "foliopage                                                  74v\n",
       "manID                                                    JK(2)\n",
       "manURL                                               Jk_2&pn=1\n",
       "textID                                                 JK(2)_A\n",
       "textURL                                                       \n",
       "year                                                       XII\n",
       "Name: 4, dtype: object"
      ]
     },
     "execution_count": 147,
     "metadata": {},
     "output_type": "execute_result"
    }
   ],
   "source": [
    "diagrams.loc[4]"
   ]
  },
  {
   "cell_type": "code",
   "execution_count": 148,
   "metadata": {
    "collapsed": false
   },
   "outputs": [
    {
     "data": {
      "text/plain": [
       "0    MAPD0668\n",
       "1    MAPD0670\n",
       "2    MAPD0698\n",
       "3    MAPD0714\n",
       "Name: diaID, dtype: object"
      ]
     },
     "execution_count": 148,
     "metadata": {},
     "output_type": "execute_result"
    }
   ],
   "source": [
    "diagrams.ix[diagrams.author=='Plinius'].diaID.ix[0:3]"
   ]
  },
  {
   "cell_type": "code",
   "execution_count": 149,
   "metadata": {
    "collapsed": false
   },
   "outputs": [
    {
     "data": {
      "text/plain": [
       "314    MAPD0345\n",
       "411    MAPD0347\n",
       "466    MAPD0386\n",
       "Name: diaID, dtype: object"
      ]
     },
     "execution_count": 149,
     "metadata": {},
     "output_type": "execute_result"
    }
   ],
   "source": [
    "diagrams.ix[diagrams.author=='Capella'].diaID.head(3)"
   ]
  },
  {
   "cell_type": "markdown",
   "metadata": {},
   "source": [
    "## Aufruf von keys\n",
    "Auf objekte rufen keys die Menge der Werte dieser Keys auf"
   ]
  },
  {
   "cell_type": "code",
   "execution_count": 150,
   "metadata": {
    "collapsed": false
   },
   "outputs": [
    {
     "data": {
      "text/plain": [
       "12    Plinius\n",
       "14    Plinius\n",
       "16    Plinius\n",
       "18    Plinius\n",
       "20    Plinius\n",
       "Name: author, dtype: object"
      ]
     },
     "execution_count": 150,
     "metadata": {},
     "output_type": "execute_result"
    }
   ],
   "source": [
    "diagrams.loc[12:20:2].author"
   ]
  },
  {
   "cell_type": "code",
   "execution_count": 151,
   "metadata": {
    "collapsed": false
   },
   "outputs": [
    {
     "data": {
      "text/html": [
       "<div>\n",
       "<table border=\"1\" class=\"dataframe\">\n",
       "  <thead>\n",
       "    <tr style=\"text-align: right;\">\n",
       "      <th></th>\n",
       "      <th>author</th>\n",
       "      <th>textID</th>\n",
       "      <th>year</th>\n",
       "    </tr>\n",
       "  </thead>\n",
       "  <tbody>\n",
       "    <tr>\n",
       "      <th>12</th>\n",
       "      <td>Plinius</td>\n",
       "      <td>MP(2)_A</td>\n",
       "      <td>IX(820)</td>\n",
       "    </tr>\n",
       "    <tr>\n",
       "      <th>13</th>\n",
       "      <td>Plinius</td>\n",
       "      <td>MP(2)_A</td>\n",
       "      <td>IX(820)</td>\n",
       "    </tr>\n",
       "    <tr>\n",
       "      <th>14</th>\n",
       "      <td>Plinius</td>\n",
       "      <td>PA(1)_A</td>\n",
       "      <td>XII(in)</td>\n",
       "    </tr>\n",
       "    <tr>\n",
       "      <th>15</th>\n",
       "      <td>Plinius</td>\n",
       "      <td>PA(1)_A</td>\n",
       "      <td>XII(in)</td>\n",
       "    </tr>\n",
       "  </tbody>\n",
       "</table>\n",
       "</div>"
      ],
      "text/plain": [
       "     author   textID     year\n",
       "12  Plinius  MP(2)_A  IX(820)\n",
       "13  Plinius  MP(2)_A  IX(820)\n",
       "14  Plinius  PA(1)_A  XII(in)\n",
       "15  Plinius  PA(1)_A  XII(in)"
      ]
     },
     "execution_count": 151,
     "metadata": {},
     "output_type": "execute_result"
    }
   ],
   "source": [
    "diagrams.loc[12:15,[\"author\",\"textID\",\"year\"]]"
   ]
  },
  {
   "cell_type": "markdown",
   "metadata": {},
   "source": [
    "## Boolean selection"
   ]
  },
  {
   "cell_type": "code",
   "execution_count": 152,
   "metadata": {
    "collapsed": false
   },
   "outputs": [
    {
     "data": {
      "text/html": [
       "<div>\n",
       "<table border=\"1\" class=\"dataframe\">\n",
       "  <thead>\n",
       "    <tr style=\"text-align: right;\">\n",
       "      <th></th>\n",
       "      <th>altID</th>\n",
       "      <th>author</th>\n",
       "      <th>biblio</th>\n",
       "      <th>diaAttr</th>\n",
       "      <th>diaID</th>\n",
       "      <th>diaTyp</th>\n",
       "      <th>diaURL</th>\n",
       "      <th>foliopage</th>\n",
       "      <th>manID</th>\n",
       "      <th>manURL</th>\n",
       "      <th>textID</th>\n",
       "      <th>textURL</th>\n",
       "      <th>year</th>\n",
       "    </tr>\n",
       "  </thead>\n",
       "  <tbody>\n",
       "    <tr>\n",
       "      <th>17</th>\n",
       "      <td>Macr9</td>\n",
       "      <td>Macrobius</td>\n",
       "      <td>Berlin SB, Phillipps 1833</td>\n",
       "      <td>[{'M8.29': 0, 'M8.3': 1, 'M8.14': 0, 'M8.37': ...</td>\n",
       "      <td>MAPD0616</td>\n",
       "      <td>8</td>\n",
       "      <td>Qc_2&amp;pn=36&amp;dw=1858&amp;dh=901&amp;ww=0.2848&amp;wh=0.4941&amp;...</td>\n",
       "      <td>36r</td>\n",
       "      <td>QC(2)</td>\n",
       "      <td>Qc_2&amp;pn=1</td>\n",
       "      <td>QC(2)_A</td>\n",
       "      <td></td>\n",
       "      <td>XI(in)</td>\n",
       "    </tr>\n",
       "    <tr>\n",
       "      <th>334</th>\n",
       "      <td>Macr3</td>\n",
       "      <td>Macrobius</td>\n",
       "      <td>Admont StiB, Ms 514</td>\n",
       "      <td>[{'M8.29': 0, 'M8.3': 0, 'M8.14': 0, 'M8.37': ...</td>\n",
       "      <td>MAPD0550</td>\n",
       "      <td>8</td>\n",
       "      <td>Co_1&amp;pn=36&amp;dw=1858&amp;dh=901&amp;ww=0.3039&amp;wh=0.3625&amp;...</td>\n",
       "      <td>36r</td>\n",
       "      <td>CO(1)</td>\n",
       "      <td>Co_1&amp;pn=1</td>\n",
       "      <td>CO(1)_A</td>\n",
       "      <td></td>\n",
       "      <td>XII(ex)</td>\n",
       "    </tr>\n",
       "  </tbody>\n",
       "</table>\n",
       "</div>"
      ],
      "text/plain": [
       "     altID     author                     biblio  \\\n",
       "17   Macr9  Macrobius  Berlin SB, Phillipps 1833   \n",
       "334  Macr3  Macrobius        Admont StiB, Ms 514   \n",
       "\n",
       "                                               diaAttr     diaID diaTyp  \\\n",
       "17   [{'M8.29': 0, 'M8.3': 1, 'M8.14': 0, 'M8.37': ...  MAPD0616      8   \n",
       "334  [{'M8.29': 0, 'M8.3': 0, 'M8.14': 0, 'M8.37': ...  MAPD0550      8   \n",
       "\n",
       "                                                diaURL foliopage  manID  \\\n",
       "17   Qc_2&pn=36&dw=1858&dh=901&ww=0.2848&wh=0.4941&...       36r  QC(2)   \n",
       "334  Co_1&pn=36&dw=1858&dh=901&ww=0.3039&wh=0.3625&...       36r  CO(1)   \n",
       "\n",
       "        manURL   textID textURL     year  \n",
       "17   Qc_2&pn=1  QC(2)_A           XI(in)  \n",
       "334  Co_1&pn=1  CO(1)_A          XII(ex)  "
      ]
     },
     "execution_count": 152,
     "metadata": {},
     "output_type": "execute_result"
    }
   ],
   "source": [
    "diagrams[diagrams.diaTyp==8].head(2)"
   ]
  },
  {
   "cell_type": "markdown",
   "metadata": {},
   "source": [
    "# ?Komplexe boolean selection"
   ]
  },
  {
   "cell_type": "markdown",
   "metadata": {},
   "source": [
    "Selection mit *isin*"
   ]
  },
  {
   "cell_type": "code",
   "execution_count": 153,
   "metadata": {
    "collapsed": false
   },
   "outputs": [
    {
     "data": {
      "text/html": [
       "<div>\n",
       "<table border=\"1\" class=\"dataframe\">\n",
       "  <thead>\n",
       "    <tr style=\"text-align: right;\">\n",
       "      <th></th>\n",
       "      <th>altID</th>\n",
       "      <th>author</th>\n",
       "      <th>biblio</th>\n",
       "      <th>diaAttr</th>\n",
       "      <th>diaID</th>\n",
       "      <th>diaTyp</th>\n",
       "      <th>diaURL</th>\n",
       "      <th>foliopage</th>\n",
       "      <th>manID</th>\n",
       "      <th>manURL</th>\n",
       "      <th>textID</th>\n",
       "      <th>textURL</th>\n",
       "      <th>year</th>\n",
       "    </tr>\n",
       "  </thead>\n",
       "  <tbody>\n",
       "    <tr>\n",
       "      <th>26</th>\n",
       "      <td>Plin18</td>\n",
       "      <td>Plinius</td>\n",
       "      <td>Vaticano BAV, Regin. 1573</td>\n",
       "      <td>[{'M1.16': 0, 'M1.1': 0, 'M1.6': 0, 'M1.22': 0...</td>\n",
       "      <td>MAPD0644</td>\n",
       "      <td>1</td>\n",
       "      <td>Dk_1&amp;pn=54&amp;dw=1858&amp;dh=901&amp;ww=0.5138&amp;wh=0.375&amp;w...</td>\n",
       "      <td>53r</td>\n",
       "      <td>DK(1)</td>\n",
       "      <td>Dk_1&amp;pn=1</td>\n",
       "      <td>DK(1)_A</td>\n",
       "      <td></td>\n",
       "      <td>XI</td>\n",
       "    </tr>\n",
       "    <tr>\n",
       "      <th>66</th>\n",
       "      <td>Plin99</td>\n",
       "      <td>Plinius</td>\n",
       "      <td>London BL, Cott. Vit. A.XII</td>\n",
       "      <td>[{'M1.16': 1, 'M1.1': 1, 'M1.6': '?', 'M1.22':...</td>\n",
       "      <td>MAPD0733</td>\n",
       "      <td>1</td>\n",
       "      <td>Fu_1&amp;pn=11&amp;dw=1858&amp;dh=901&amp;ww=0.3226&amp;wh=0.4803&amp;...</td>\n",
       "      <td>9r</td>\n",
       "      <td>FU(1)</td>\n",
       "      <td>Fu_1&amp;pn=1</td>\n",
       "      <td>FU(1)_A</td>\n",
       "      <td></td>\n",
       "      <td>XI</td>\n",
       "    </tr>\n",
       "  </tbody>\n",
       "</table>\n",
       "</div>"
      ],
      "text/plain": [
       "     altID   author                       biblio  \\\n",
       "26  Plin18  Plinius    Vaticano BAV, Regin. 1573   \n",
       "66  Plin99  Plinius  London BL, Cott. Vit. A.XII   \n",
       "\n",
       "                                              diaAttr     diaID diaTyp  \\\n",
       "26  [{'M1.16': 0, 'M1.1': 0, 'M1.6': 0, 'M1.22': 0...  MAPD0644      1   \n",
       "66  [{'M1.16': 1, 'M1.1': 1, 'M1.6': '?', 'M1.22':...  MAPD0733      1   \n",
       "\n",
       "                                               diaURL foliopage  manID  \\\n",
       "26  Dk_1&pn=54&dw=1858&dh=901&ww=0.5138&wh=0.375&w...       53r  DK(1)   \n",
       "66  Fu_1&pn=11&dw=1858&dh=901&ww=0.3226&wh=0.4803&...        9r  FU(1)   \n",
       "\n",
       "       manURL   textID textURL year  \n",
       "26  Dk_1&pn=1  DK(1)_A           XI  \n",
       "66  Fu_1&pn=1  FU(1)_A           XI  "
      ]
     },
     "execution_count": 153,
     "metadata": {},
     "output_type": "execute_result"
    }
   ],
   "source": [
    "diagrams[diagrams.year.isin(['XI'])].head(2)"
   ]
  },
  {
   "cell_type": "markdown",
   "metadata": {},
   "source": [
    "## Missing Data"
   ]
  },
  {
   "cell_type": "markdown",
   "metadata": {},
   "source": [
    "## Groupedby Partitionen"
   ]
  },
  {
   "cell_type": "code",
   "execution_count": 154,
   "metadata": {
    "collapsed": false
   },
   "outputs": [],
   "source": [
    "gdia=diagrams.groupby('author').groups"
   ]
  },
  {
   "cell_type": "code",
   "execution_count": 155,
   "metadata": {
    "collapsed": false
   },
   "outputs": [
    {
     "data": {
      "text/plain": [
       "174"
      ]
     },
     "execution_count": 155,
     "metadata": {},
     "output_type": "execute_result"
    }
   ],
   "source": [
    "len(gdia['Capella'])"
   ]
  },
  {
   "cell_type": "markdown",
   "metadata": {},
   "source": [
    "# Operations auf Spalten von Dataframes"
   ]
  },
  {
   "cell_type": "markdown",
   "metadata": {},
   "source": [
    "## Setting\n",
    "Neue Spalten berechnen und einem Dataframe hinzufügen. Diese Funktion verändert den Datenframe *diagrams*"
   ]
  },
  {
   "cell_type": "markdown",
   "metadata": {},
   "source": [
    "diagrams.loc[:,\"neu\"]=len(diagrams)"
   ]
  },
  {
   "cell_type": "markdown",
   "metadata": {},
   "source": [
    "diagrams.head(1)"
   ]
  },
  {
   "cell_type": "markdown",
   "metadata": {},
   "source": [
    "## Zählen"
   ]
  },
  {
   "cell_type": "code",
   "execution_count": 156,
   "metadata": {
    "collapsed": false
   },
   "outputs": [
    {
     "data": {
      "text/plain": [
       "174"
      ]
     },
     "execution_count": 156,
     "metadata": {},
     "output_type": "execute_result"
    }
   ],
   "source": [
    "len(diagrams[diagrams.author=='Capella'])"
   ]
  },
  {
   "cell_type": "code",
   "execution_count": 166,
   "metadata": {
    "collapsed": false
   },
   "outputs": [
    {
     "ename": "KeyError",
     "evalue": "\"['Plinius' 'Plinius' 'Plinius' 'Plinius' 'Plinius' 'Plinius' 'Plinius'\\n 'Plinius' 'Plinius' 'Plinius' 'Plinius' 'Plinius' 'Plinius' 'Plinius'\\n 'Plinius' 'Plinius' 'Plinius' 'Macrobius' 'Plinius' 'Plinius' 'Plinius'\\n 'Plinius' 'Plinius' 'Plinius' 'Plinius' 'Plinius' 'Plinius' 'Plinius'\\n 'Plinius' 'Plinius' 'Plinius' 'Plinius' 'Plinius' 'Plinius' 'Plinius'\\n 'Plinius' 'Plinius' 'Plinius' 'Plinius' 'Plinius' 'Plinius' 'Plinius'\\n 'Plinius' 'Plinius' 'Plinius' 'Plinius' 'Plinius' 'Plinius' 'Plinius'\\n 'Plinius' 'Macrobius' 'Plinius' 'Plinius' 'Plinius' 'Plinius' 'Plinius'\\n 'Plinius' 'Plinius' 'Plinius' 'Plinius' 'Plinius' 'Plinius' 'Plinius'\\n 'Plinius' 'Plinius' 'Plinius' 'Plinius' 'Calcidius' 'Calcidius'\\n 'Calcidius' 'Calcidius' 'Calcidius' 'Calcidius' 'Calcidius' 'Calcidius'\\n 'Calcidius' 'Calcidius' 'Calcidius' 'Calcidius' 'Calcidius' 'Calcidius'\\n 'Calcidius' 'Calcidius' 'Calcidius' 'Calcidius' 'Calcidius' 'Calcidius'\\n 'Calcidius' 'Calcidius' 'Calcidius' 'Calcidius' 'Calcidius' 'Calcidius'\\n 'Calcidius' 'Calcidius' 'Calcidius' 'Calcidius' 'Calcidius' 'Calcidius'\\n 'Calcidius' 'Calcidius' 'Calcidius' 'Calcidius' 'Calcidius' 'Calcidius'\\n 'Calcidius' 'Calcidius' 'Calcidius' 'Calcidius' 'Calcidius' 'Calcidius'\\n 'Calcidius' 'Calcidius' 'Calcidius' 'Calcidius' 'Calcidius' 'Calcidius'\\n 'Calcidius' 'Calcidius' 'Calcidius' 'Calcidius' 'Calcidius' 'Calcidius'\\n 'Calcidius' 'Calcidius' 'Calcidius' 'Calcidius' 'Calcidius' 'Calcidius'\\n 'Calcidius' 'Calcidius' 'Calcidius' 'Calcidius' 'Calcidius' 'Calcidius'\\n 'Calcidius' 'Calcidius' 'Calcidius' 'Calcidius' 'Calcidius' 'Calcidius'\\n 'Calcidius' 'Calcidius' 'Calcidius' 'Calcidius' 'Calcidius' 'Calcidius'\\n 'Calcidius' 'Calcidius' 'Calcidius' 'Calcidius' 'Calcidius' 'Plinius'\\n 'Calcidius' 'Calcidius' 'Calcidius' 'Calcidius' 'Calcidius' 'Calcidius'\\n 'Calcidius' 'Calcidius' 'Calcidius' 'Calcidius' 'Calcidius' 'Calcidius'\\n 'Calcidius' 'Calcidius' 'Calcidius' 'Calcidius' 'Calcidius' 'Calcidius'\\n 'Calcidius' 'Calcidius' 'Calcidius' 'Calcidius' 'Calcidius' 'Calcidius'\\n 'Calcidius' 'Calcidius' 'Calcidius' 'Calcidius' 'Calcidius' 'Calcidius'\\n 'Calcidius' 'Calcidius' 'Calcidius' 'Calcidius' 'Calcidius' 'Calcidius'\\n 'Calcidius' 'Calcidius' 'Calcidius' 'Calcidius' 'Calcidius' 'Calcidius'\\n 'Calcidius' 'Calcidius' 'Calcidius' 'Calcidius' 'Calcidius' 'Calcidius'\\n 'Calcidius' 'Calcidius' 'Calcidius' 'Calcidius' 'Calcidius' 'Calcidius'\\n 'Calcidius' 'Calcidius' 'Calcidius' 'Calcidius' 'Calcidius' 'Calcidius'\\n 'Calcidius' 'Calcidius' 'Calcidius' 'Calcidius' 'Calcidius' 'Calcidius'\\n 'Calcidius' 'Calcidius' 'Calcidius' 'Calcidius' 'Calcidius' 'Calcidius'\\n 'Calcidius' 'Calcidius' 'Calcidius' 'Calcidius' 'Calcidius' 'Calcidius'\\n 'Calcidius' 'Calcidius' 'Calcidius' 'Calcidius' 'Calcidius' 'Calcidius'\\n 'Calcidius' 'Calcidius' 'Calcidius' 'Calcidius' 'Calcidius' 'Calcidius'\\n 'Calcidius' 'Calcidius' 'Calcidius' 'Calcidius' 'Calcidius' 'Calcidius'\\n 'Calcidius' 'Calcidius' 'Calcidius' 'Calcidius' 'Calcidius' 'Calcidius'\\n 'Calcidius' 'Calcidius' 'Calcidius' 'Calcidius' 'Calcidius' 'Calcidius'\\n 'Calcidius' 'Calcidius' 'Calcidius' 'Calcidius' 'Calcidius' 'Calcidius'\\n 'Calcidius' 'Calcidius' 'Calcidius' 'Calcidius' 'Calcidius' 'Calcidius'\\n 'Calcidius' 'Calcidius' 'Calcidius' 'Calcidius' 'Calcidius' 'Calcidius'\\n 'Calcidius' 'Calcidius' 'Calcidius' 'Calcidius' 'Calcidius' 'Calcidius'\\n 'Calcidius' 'Calcidius' 'Calcidius' 'Calcidius' 'Calcidius' 'Calcidius'\\n 'Calcidius' 'Calcidius' 'Calcidius' 'Calcidius' 'Calcidius' 'Calcidius'\\n 'Calcidius' 'Calcidius' 'Calcidius' 'Calcidius' 'Calcidius' 'Calcidius'\\n 'Calcidius' 'Calcidius' 'Calcidius' 'Calcidius' 'Calcidius' 'Calcidius'\\n 'Calcidius' 'Calcidius' 'Calcidius' 'Calcidius' 'Calcidius' 'Capella'\\n 'Calcidius' 'Calcidius' 'Calcidius' 'Calcidius' 'Calcidius' 'Calcidius'\\n 'Calcidius' 'Calcidius' 'Calcidius' 'Calcidius' 'Calcidius' 'Calcidius'\\n 'Calcidius' 'Calcidius' 'Calcidius' 'Calcidius' 'Calcidius' 'Macrobius'\\n 'Macrobius' 'Macrobius' 'Macrobius' 'Macrobius' 'Macrobius' 'Macrobius'\\n 'Macrobius' 'Macrobius' 'Plinius' 'Plinius' 'Macrobius' 'Macrobius'\\n 'Macrobius' 'Macrobius' 'Macrobius' 'Macrobius' 'Macrobius' 'Macrobius'\\n 'Plinius' 'Macrobius' 'Macrobius' 'Macrobius' 'Macrobius' 'Macrobius'\\n 'Macrobius' 'Plinius' 'Macrobius' 'Macrobius' 'Macrobius' 'Macrobius'\\n 'Macrobius' 'Macrobius' 'Plinius' 'Plinius' 'Plinius' 'Plinius'\\n 'Macrobius' 'Macrobius' 'Macrobius' 'Macrobius' 'Macrobius' 'Macrobius'\\n 'Macrobius' 'Plinius' 'Macrobius' 'Macrobius' 'Plinius' 'Macrobius'\\n 'Plinius' 'Macrobius' 'Macrobius' 'Macrobius' 'Macrobius' 'Macrobius'\\n 'Macrobius' 'Macrobius' 'Macrobius' 'Plinius' 'Macrobius' 'Macrobius'\\n 'Macrobius' 'Macrobius' 'Macrobius' 'Macrobius' 'Macrobius' 'Macrobius'\\n 'Macrobius' 'Macrobius' 'Macrobius' 'Macrobius' 'Plinius' 'Plinius'\\n 'Plinius' 'Macrobius' 'Macrobius' 'Macrobius' 'Macrobius' 'Macrobius'\\n 'Capella' 'Macrobius' 'Macrobius' 'Macrobius' 'Macrobius' 'Macrobius'\\n 'Macrobius' 'Macrobius' 'Macrobius' 'Macrobius' 'Macrobius' 'Macrobius'\\n 'Macrobius' 'Macrobius' 'Calcidius' 'Calcidius' 'Calcidius' 'Calcidius'\\n 'Calcidius' 'Calcidius' 'Macrobius' 'Macrobius' 'Macrobius' 'Macrobius'\\n 'Macrobius' 'Macrobius' 'Macrobius' 'Macrobius' 'Macrobius' 'Macrobius'\\n 'Macrobius' 'Macrobius' 'Macrobius' 'Plinius' 'Macrobius' 'Macrobius'\\n 'Macrobius' 'Macrobius' 'Macrobius' 'Macrobius' 'Macrobius' 'Macrobius'\\n 'Macrobius' 'Macrobius' 'Macrobius' 'Macrobius' 'Macrobius' 'Macrobius'\\n 'Macrobius' 'Macrobius' 'Macrobius' 'Macrobius' 'Macrobius' 'Macrobius'\\n 'Macrobius' 'Capella' 'Capella' 'Macrobius' 'Macrobius' 'Macrobius'\\n 'Macrobius' 'Macrobius' 'Macrobius' 'Macrobius' 'Macrobius' 'Macrobius'\\n 'Macrobius' 'Macrobius' 'Macrobius' 'Macrobius' 'Macrobius' 'Macrobius'\\n 'Macrobius' 'Macrobius' 'Macrobius' 'Macrobius' 'Macrobius' 'Macrobius'\\n 'Calcidius' 'Calcidius' 'Calcidius' 'Calcidius' 'Macrobius' 'Macrobius'\\n 'Macrobius' 'Macrobius' 'Macrobius' 'Macrobius' 'Macrobius' 'Macrobius'\\n 'Macrobius' 'Macrobius' 'Macrobius' 'Macrobius' 'Calcidius' 'Calcidius'\\n 'Calcidius' 'Calcidius' 'Calcidius' 'Calcidius' 'Plinius' 'Plinius'\\n 'Macrobius' 'Plinius' 'Plinius' 'Plinius' 'Plinius' 'Plinius' 'Capella'\\n 'Capella' 'Capella' 'Capella' 'Capella' 'Capella' 'Capella' 'Capella'\\n 'Capella' 'Capella' 'Capella' 'Capella' 'Macrobius' 'Plinius' 'Plinius'\\n 'Plinius' 'Plinius' 'Plinius' 'Macrobius' 'Macrobius' 'Plinius'\\n 'Calcidius' 'Calcidius' 'Calcidius' 'Calcidius' 'Calcidius' 'Plinius'\\n 'Macrobius' 'Plinius' 'Plinius' 'Plinius' 'Capella' 'Macrobius' 'Plinius'\\n 'Macrobius' 'Plinius' 'Plinius' 'Macrobius' 'Macrobius' 'Macrobius'\\n 'Macrobius' 'Plinius' 'Capella' 'Capella' 'Capella' 'Capella' 'Capella'\\n 'Capella' 'Capella' 'Capella' 'Capella' 'Capella' 'Capella' 'Capella'\\n 'Capella' 'Capella' 'Capella' 'Capella' 'Capella' 'Capella' 'Capella'\\n 'Capella' 'Capella' 'Capella' 'Capella' 'Capella' 'Capella' 'Capella'\\n 'Capella' 'Capella' 'Capella' 'Capella' 'Capella' 'Capella' 'Capella'\\n 'Capella' 'Capella' 'Capella' 'Capella' 'Capella' 'Capella' 'Capella'\\n 'Capella' 'Capella' 'Capella' 'Capella' 'Capella' 'Capella' 'Capella'\\n 'Capella' 'Capella' 'Capella' 'Capella' 'Capella' 'Capella' 'Capella'\\n 'Capella' 'Capella' 'Capella' 'Capella' 'Capella' 'Capella' 'Capella'\\n 'Capella' 'Capella' 'Capella' 'Capella' 'Capella' 'Capella' 'Capella'\\n 'Capella' 'Capella' 'Capella' 'Capella' 'Capella' 'Capella' 'Capella'\\n 'Capella' 'Capella' 'Capella' 'Capella' 'Capella' 'Capella' 'Capella'\\n 'Capella' 'Capella' 'Capella' 'Capella' 'Capella' 'Capella' 'Capella'\\n 'Capella' 'Capella' 'Plinius' 'Plinius' 'Capella' 'Capella' 'Plinius'\\n 'Capella' 'Capella' 'Capella' 'Capella' 'Capella' 'Capella' 'Capella'\\n 'Capella' 'Capella' 'Capella' 'Capella' 'Capella' 'Capella' 'Capella'\\n 'Capella' 'Capella' 'Capella' 'Capella' 'Capella' 'Capella' 'Capella'\\n 'Capella' 'Capella' 'Capella' 'Capella' 'Capella' 'Capella' 'Capella'\\n 'Capella' 'Capella' 'Capella' 'Capella' 'Capella' 'Capella' 'Capella'\\n 'Capella' 'Capella' 'Capella' 'Capella' 'Capella' 'Capella' 'Capella'\\n 'Capella' 'Capella' 'Capella' 'Capella' 'Capella' 'Capella' 'Capella'\\n 'Capella' 'Capella' 'Capella' 'Capella' 'Capella' 'Capella' 'Capella'\\n 'Capella' 'Capella' 'Capella' 'Capella' 'Capella' 'Capella' 'Capella'\\n 'Capella'] not in index\"",
     "output_type": "error",
     "traceback": [
      "\u001b[0;31m---------------------------------------------------------------------------\u001b[0m",
      "\u001b[0;31mKeyError\u001b[0m                                  Traceback (most recent call last)",
      "\u001b[0;32m<ipython-input-166-b43fe4d55927>\u001b[0m in \u001b[0;36m<module>\u001b[0;34m()\u001b[0m\n\u001b[0;32m----> 1\u001b[0;31m \u001b[0mlen\u001b[0m\u001b[0;34m(\u001b[0m\u001b[0mdiagrams\u001b[0m\u001b[0;34m[\u001b[0m\u001b[0mdiagrams\u001b[0m\u001b[0;34m.\u001b[0m\u001b[0mauthor\u001b[0m\u001b[0;34m]\u001b[0m\u001b[0;34m)\u001b[0m\u001b[0;34m\u001b[0m\u001b[0m\n\u001b[0m",
      "\u001b[0;32m/Users/gerdgrasshoff/anaconda/lib/python3.5/site-packages/pandas/core/frame.py\u001b[0m in \u001b[0;36m__getitem__\u001b[0;34m(self, key)\u001b[0m\n\u001b[1;32m   1989\u001b[0m         \u001b[0;32mif\u001b[0m \u001b[0misinstance\u001b[0m\u001b[0;34m(\u001b[0m\u001b[0mkey\u001b[0m\u001b[0;34m,\u001b[0m \u001b[0;34m(\u001b[0m\u001b[0mSeries\u001b[0m\u001b[0;34m,\u001b[0m \u001b[0mnp\u001b[0m\u001b[0;34m.\u001b[0m\u001b[0mndarray\u001b[0m\u001b[0;34m,\u001b[0m \u001b[0mIndex\u001b[0m\u001b[0;34m,\u001b[0m \u001b[0mlist\u001b[0m\u001b[0;34m)\u001b[0m\u001b[0;34m)\u001b[0m\u001b[0;34m:\u001b[0m\u001b[0;34m\u001b[0m\u001b[0m\n\u001b[1;32m   1990\u001b[0m             \u001b[0;31m# either boolean or fancy integer index\u001b[0m\u001b[0;34m\u001b[0m\u001b[0;34m\u001b[0m\u001b[0m\n\u001b[0;32m-> 1991\u001b[0;31m             \u001b[0;32mreturn\u001b[0m \u001b[0mself\u001b[0m\u001b[0;34m.\u001b[0m\u001b[0m_getitem_array\u001b[0m\u001b[0;34m(\u001b[0m\u001b[0mkey\u001b[0m\u001b[0;34m)\u001b[0m\u001b[0;34m\u001b[0m\u001b[0m\n\u001b[0m\u001b[1;32m   1992\u001b[0m         \u001b[0;32melif\u001b[0m \u001b[0misinstance\u001b[0m\u001b[0;34m(\u001b[0m\u001b[0mkey\u001b[0m\u001b[0;34m,\u001b[0m \u001b[0mDataFrame\u001b[0m\u001b[0;34m)\u001b[0m\u001b[0;34m:\u001b[0m\u001b[0;34m\u001b[0m\u001b[0m\n\u001b[1;32m   1993\u001b[0m             \u001b[0;32mreturn\u001b[0m \u001b[0mself\u001b[0m\u001b[0;34m.\u001b[0m\u001b[0m_getitem_frame\u001b[0m\u001b[0;34m(\u001b[0m\u001b[0mkey\u001b[0m\u001b[0;34m)\u001b[0m\u001b[0;34m\u001b[0m\u001b[0m\n",
      "\u001b[0;32m/Users/gerdgrasshoff/anaconda/lib/python3.5/site-packages/pandas/core/frame.py\u001b[0m in \u001b[0;36m_getitem_array\u001b[0;34m(self, key)\u001b[0m\n\u001b[1;32m   2033\u001b[0m             \u001b[0;32mreturn\u001b[0m \u001b[0mself\u001b[0m\u001b[0;34m.\u001b[0m\u001b[0mtake\u001b[0m\u001b[0;34m(\u001b[0m\u001b[0mindexer\u001b[0m\u001b[0;34m,\u001b[0m \u001b[0maxis\u001b[0m\u001b[0;34m=\u001b[0m\u001b[0;36m0\u001b[0m\u001b[0;34m,\u001b[0m \u001b[0mconvert\u001b[0m\u001b[0;34m=\u001b[0m\u001b[0;32mFalse\u001b[0m\u001b[0;34m)\u001b[0m\u001b[0;34m\u001b[0m\u001b[0m\n\u001b[1;32m   2034\u001b[0m         \u001b[0;32melse\u001b[0m\u001b[0;34m:\u001b[0m\u001b[0;34m\u001b[0m\u001b[0m\n\u001b[0;32m-> 2035\u001b[0;31m             \u001b[0mindexer\u001b[0m \u001b[0;34m=\u001b[0m \u001b[0mself\u001b[0m\u001b[0;34m.\u001b[0m\u001b[0mix\u001b[0m\u001b[0;34m.\u001b[0m\u001b[0m_convert_to_indexer\u001b[0m\u001b[0;34m(\u001b[0m\u001b[0mkey\u001b[0m\u001b[0;34m,\u001b[0m \u001b[0maxis\u001b[0m\u001b[0;34m=\u001b[0m\u001b[0;36m1\u001b[0m\u001b[0;34m)\u001b[0m\u001b[0;34m\u001b[0m\u001b[0m\n\u001b[0m\u001b[1;32m   2036\u001b[0m             \u001b[0;32mreturn\u001b[0m \u001b[0mself\u001b[0m\u001b[0;34m.\u001b[0m\u001b[0mtake\u001b[0m\u001b[0;34m(\u001b[0m\u001b[0mindexer\u001b[0m\u001b[0;34m,\u001b[0m \u001b[0maxis\u001b[0m\u001b[0;34m=\u001b[0m\u001b[0;36m1\u001b[0m\u001b[0;34m,\u001b[0m \u001b[0mconvert\u001b[0m\u001b[0;34m=\u001b[0m\u001b[0;32mTrue\u001b[0m\u001b[0;34m)\u001b[0m\u001b[0;34m\u001b[0m\u001b[0m\n\u001b[1;32m   2037\u001b[0m \u001b[0;34m\u001b[0m\u001b[0m\n",
      "\u001b[0;32m/Users/gerdgrasshoff/anaconda/lib/python3.5/site-packages/pandas/core/indexing.py\u001b[0m in \u001b[0;36m_convert_to_indexer\u001b[0;34m(self, obj, axis, is_setter)\u001b[0m\n\u001b[1;32m   1212\u001b[0m                 \u001b[0mmask\u001b[0m \u001b[0;34m=\u001b[0m \u001b[0mcheck\u001b[0m \u001b[0;34m==\u001b[0m \u001b[0;34m-\u001b[0m\u001b[0;36m1\u001b[0m\u001b[0;34m\u001b[0m\u001b[0m\n\u001b[1;32m   1213\u001b[0m                 \u001b[0;32mif\u001b[0m \u001b[0mmask\u001b[0m\u001b[0;34m.\u001b[0m\u001b[0many\u001b[0m\u001b[0;34m(\u001b[0m\u001b[0;34m)\u001b[0m\u001b[0;34m:\u001b[0m\u001b[0;34m\u001b[0m\u001b[0m\n\u001b[0;32m-> 1214\u001b[0;31m                     \u001b[0;32mraise\u001b[0m \u001b[0mKeyError\u001b[0m\u001b[0;34m(\u001b[0m\u001b[0;34m'%s not in index'\u001b[0m \u001b[0;34m%\u001b[0m \u001b[0mobjarr\u001b[0m\u001b[0;34m[\u001b[0m\u001b[0mmask\u001b[0m\u001b[0;34m]\u001b[0m\u001b[0;34m)\u001b[0m\u001b[0;34m\u001b[0m\u001b[0m\n\u001b[0m\u001b[1;32m   1215\u001b[0m \u001b[0;34m\u001b[0m\u001b[0m\n\u001b[1;32m   1216\u001b[0m                 \u001b[0;32mreturn\u001b[0m \u001b[0m_values_from_object\u001b[0m\u001b[0;34m(\u001b[0m\u001b[0mindexer\u001b[0m\u001b[0;34m)\u001b[0m\u001b[0;34m\u001b[0m\u001b[0m\n",
      "\u001b[0;31mKeyError\u001b[0m: \"['Plinius' 'Plinius' 'Plinius' 'Plinius' 'Plinius' 'Plinius' 'Plinius'\\n 'Plinius' 'Plinius' 'Plinius' 'Plinius' 'Plinius' 'Plinius' 'Plinius'\\n 'Plinius' 'Plinius' 'Plinius' 'Macrobius' 'Plinius' 'Plinius' 'Plinius'\\n 'Plinius' 'Plinius' 'Plinius' 'Plinius' 'Plinius' 'Plinius' 'Plinius'\\n 'Plinius' 'Plinius' 'Plinius' 'Plinius' 'Plinius' 'Plinius' 'Plinius'\\n 'Plinius' 'Plinius' 'Plinius' 'Plinius' 'Plinius' 'Plinius' 'Plinius'\\n 'Plinius' 'Plinius' 'Plinius' 'Plinius' 'Plinius' 'Plinius' 'Plinius'\\n 'Plinius' 'Macrobius' 'Plinius' 'Plinius' 'Plinius' 'Plinius' 'Plinius'\\n 'Plinius' 'Plinius' 'Plinius' 'Plinius' 'Plinius' 'Plinius' 'Plinius'\\n 'Plinius' 'Plinius' 'Plinius' 'Plinius' 'Calcidius' 'Calcidius'\\n 'Calcidius' 'Calcidius' 'Calcidius' 'Calcidius' 'Calcidius' 'Calcidius'\\n 'Calcidius' 'Calcidius' 'Calcidius' 'Calcidius' 'Calcidius' 'Calcidius'\\n 'Calcidius' 'Calcidius' 'Calcidius' 'Calcidius' 'Calcidius' 'Calcidius'\\n 'Calcidius' 'Calcidius' 'Calcidius' 'Calcidius' 'Calcidius' 'Calcidius'\\n 'Calcidius' 'Calcidius' 'Calcidius' 'Calcidius' 'Calcidius' 'Calcidius'\\n 'Calcidius' 'Calcidius' 'Calcidius' 'Calcidius' 'Calcidius' 'Calcidius'\\n 'Calcidius' 'Calcidius' 'Calcidius' 'Calcidius' 'Calcidius' 'Calcidius'\\n 'Calcidius' 'Calcidius' 'Calcidius' 'Calcidius' 'Calcidius' 'Calcidius'\\n 'Calcidius' 'Calcidius' 'Calcidius' 'Calcidius' 'Calcidius' 'Calcidius'\\n 'Calcidius' 'Calcidius' 'Calcidius' 'Calcidius' 'Calcidius' 'Calcidius'\\n 'Calcidius' 'Calcidius' 'Calcidius' 'Calcidius' 'Calcidius' 'Calcidius'\\n 'Calcidius' 'Calcidius' 'Calcidius' 'Calcidius' 'Calcidius' 'Calcidius'\\n 'Calcidius' 'Calcidius' 'Calcidius' 'Calcidius' 'Calcidius' 'Calcidius'\\n 'Calcidius' 'Calcidius' 'Calcidius' 'Calcidius' 'Calcidius' 'Plinius'\\n 'Calcidius' 'Calcidius' 'Calcidius' 'Calcidius' 'Calcidius' 'Calcidius'\\n 'Calcidius' 'Calcidius' 'Calcidius' 'Calcidius' 'Calcidius' 'Calcidius'\\n 'Calcidius' 'Calcidius' 'Calcidius' 'Calcidius' 'Calcidius' 'Calcidius'\\n 'Calcidius' 'Calcidius' 'Calcidius' 'Calcidius' 'Calcidius' 'Calcidius'\\n 'Calcidius' 'Calcidius' 'Calcidius' 'Calcidius' 'Calcidius' 'Calcidius'\\n 'Calcidius' 'Calcidius' 'Calcidius' 'Calcidius' 'Calcidius' 'Calcidius'\\n 'Calcidius' 'Calcidius' 'Calcidius' 'Calcidius' 'Calcidius' 'Calcidius'\\n 'Calcidius' 'Calcidius' 'Calcidius' 'Calcidius' 'Calcidius' 'Calcidius'\\n 'Calcidius' 'Calcidius' 'Calcidius' 'Calcidius' 'Calcidius' 'Calcidius'\\n 'Calcidius' 'Calcidius' 'Calcidius' 'Calcidius' 'Calcidius' 'Calcidius'\\n 'Calcidius' 'Calcidius' 'Calcidius' 'Calcidius' 'Calcidius' 'Calcidius'\\n 'Calcidius' 'Calcidius' 'Calcidius' 'Calcidius' 'Calcidius' 'Calcidius'\\n 'Calcidius' 'Calcidius' 'Calcidius' 'Calcidius' 'Calcidius' 'Calcidius'\\n 'Calcidius' 'Calcidius' 'Calcidius' 'Calcidius' 'Calcidius' 'Calcidius'\\n 'Calcidius' 'Calcidius' 'Calcidius' 'Calcidius' 'Calcidius' 'Calcidius'\\n 'Calcidius' 'Calcidius' 'Calcidius' 'Calcidius' 'Calcidius' 'Calcidius'\\n 'Calcidius' 'Calcidius' 'Calcidius' 'Calcidius' 'Calcidius' 'Calcidius'\\n 'Calcidius' 'Calcidius' 'Calcidius' 'Calcidius' 'Calcidius' 'Calcidius'\\n 'Calcidius' 'Calcidius' 'Calcidius' 'Calcidius' 'Calcidius' 'Calcidius'\\n 'Calcidius' 'Calcidius' 'Calcidius' 'Calcidius' 'Calcidius' 'Calcidius'\\n 'Calcidius' 'Calcidius' 'Calcidius' 'Calcidius' 'Calcidius' 'Calcidius'\\n 'Calcidius' 'Calcidius' 'Calcidius' 'Calcidius' 'Calcidius' 'Calcidius'\\n 'Calcidius' 'Calcidius' 'Calcidius' 'Calcidius' 'Calcidius' 'Calcidius'\\n 'Calcidius' 'Calcidius' 'Calcidius' 'Calcidius' 'Calcidius' 'Calcidius'\\n 'Calcidius' 'Calcidius' 'Calcidius' 'Calcidius' 'Calcidius' 'Calcidius'\\n 'Calcidius' 'Calcidius' 'Calcidius' 'Calcidius' 'Calcidius' 'Calcidius'\\n 'Calcidius' 'Calcidius' 'Calcidius' 'Calcidius' 'Calcidius' 'Capella'\\n 'Calcidius' 'Calcidius' 'Calcidius' 'Calcidius' 'Calcidius' 'Calcidius'\\n 'Calcidius' 'Calcidius' 'Calcidius' 'Calcidius' 'Calcidius' 'Calcidius'\\n 'Calcidius' 'Calcidius' 'Calcidius' 'Calcidius' 'Calcidius' 'Macrobius'\\n 'Macrobius' 'Macrobius' 'Macrobius' 'Macrobius' 'Macrobius' 'Macrobius'\\n 'Macrobius' 'Macrobius' 'Plinius' 'Plinius' 'Macrobius' 'Macrobius'\\n 'Macrobius' 'Macrobius' 'Macrobius' 'Macrobius' 'Macrobius' 'Macrobius'\\n 'Plinius' 'Macrobius' 'Macrobius' 'Macrobius' 'Macrobius' 'Macrobius'\\n 'Macrobius' 'Plinius' 'Macrobius' 'Macrobius' 'Macrobius' 'Macrobius'\\n 'Macrobius' 'Macrobius' 'Plinius' 'Plinius' 'Plinius' 'Plinius'\\n 'Macrobius' 'Macrobius' 'Macrobius' 'Macrobius' 'Macrobius' 'Macrobius'\\n 'Macrobius' 'Plinius' 'Macrobius' 'Macrobius' 'Plinius' 'Macrobius'\\n 'Plinius' 'Macrobius' 'Macrobius' 'Macrobius' 'Macrobius' 'Macrobius'\\n 'Macrobius' 'Macrobius' 'Macrobius' 'Plinius' 'Macrobius' 'Macrobius'\\n 'Macrobius' 'Macrobius' 'Macrobius' 'Macrobius' 'Macrobius' 'Macrobius'\\n 'Macrobius' 'Macrobius' 'Macrobius' 'Macrobius' 'Plinius' 'Plinius'\\n 'Plinius' 'Macrobius' 'Macrobius' 'Macrobius' 'Macrobius' 'Macrobius'\\n 'Capella' 'Macrobius' 'Macrobius' 'Macrobius' 'Macrobius' 'Macrobius'\\n 'Macrobius' 'Macrobius' 'Macrobius' 'Macrobius' 'Macrobius' 'Macrobius'\\n 'Macrobius' 'Macrobius' 'Calcidius' 'Calcidius' 'Calcidius' 'Calcidius'\\n 'Calcidius' 'Calcidius' 'Macrobius' 'Macrobius' 'Macrobius' 'Macrobius'\\n 'Macrobius' 'Macrobius' 'Macrobius' 'Macrobius' 'Macrobius' 'Macrobius'\\n 'Macrobius' 'Macrobius' 'Macrobius' 'Plinius' 'Macrobius' 'Macrobius'\\n 'Macrobius' 'Macrobius' 'Macrobius' 'Macrobius' 'Macrobius' 'Macrobius'\\n 'Macrobius' 'Macrobius' 'Macrobius' 'Macrobius' 'Macrobius' 'Macrobius'\\n 'Macrobius' 'Macrobius' 'Macrobius' 'Macrobius' 'Macrobius' 'Macrobius'\\n 'Macrobius' 'Capella' 'Capella' 'Macrobius' 'Macrobius' 'Macrobius'\\n 'Macrobius' 'Macrobius' 'Macrobius' 'Macrobius' 'Macrobius' 'Macrobius'\\n 'Macrobius' 'Macrobius' 'Macrobius' 'Macrobius' 'Macrobius' 'Macrobius'\\n 'Macrobius' 'Macrobius' 'Macrobius' 'Macrobius' 'Macrobius' 'Macrobius'\\n 'Calcidius' 'Calcidius' 'Calcidius' 'Calcidius' 'Macrobius' 'Macrobius'\\n 'Macrobius' 'Macrobius' 'Macrobius' 'Macrobius' 'Macrobius' 'Macrobius'\\n 'Macrobius' 'Macrobius' 'Macrobius' 'Macrobius' 'Calcidius' 'Calcidius'\\n 'Calcidius' 'Calcidius' 'Calcidius' 'Calcidius' 'Plinius' 'Plinius'\\n 'Macrobius' 'Plinius' 'Plinius' 'Plinius' 'Plinius' 'Plinius' 'Capella'\\n 'Capella' 'Capella' 'Capella' 'Capella' 'Capella' 'Capella' 'Capella'\\n 'Capella' 'Capella' 'Capella' 'Capella' 'Macrobius' 'Plinius' 'Plinius'\\n 'Plinius' 'Plinius' 'Plinius' 'Macrobius' 'Macrobius' 'Plinius'\\n 'Calcidius' 'Calcidius' 'Calcidius' 'Calcidius' 'Calcidius' 'Plinius'\\n 'Macrobius' 'Plinius' 'Plinius' 'Plinius' 'Capella' 'Macrobius' 'Plinius'\\n 'Macrobius' 'Plinius' 'Plinius' 'Macrobius' 'Macrobius' 'Macrobius'\\n 'Macrobius' 'Plinius' 'Capella' 'Capella' 'Capella' 'Capella' 'Capella'\\n 'Capella' 'Capella' 'Capella' 'Capella' 'Capella' 'Capella' 'Capella'\\n 'Capella' 'Capella' 'Capella' 'Capella' 'Capella' 'Capella' 'Capella'\\n 'Capella' 'Capella' 'Capella' 'Capella' 'Capella' 'Capella' 'Capella'\\n 'Capella' 'Capella' 'Capella' 'Capella' 'Capella' 'Capella' 'Capella'\\n 'Capella' 'Capella' 'Capella' 'Capella' 'Capella' 'Capella' 'Capella'\\n 'Capella' 'Capella' 'Capella' 'Capella' 'Capella' 'Capella' 'Capella'\\n 'Capella' 'Capella' 'Capella' 'Capella' 'Capella' 'Capella' 'Capella'\\n 'Capella' 'Capella' 'Capella' 'Capella' 'Capella' 'Capella' 'Capella'\\n 'Capella' 'Capella' 'Capella' 'Capella' 'Capella' 'Capella' 'Capella'\\n 'Capella' 'Capella' 'Capella' 'Capella' 'Capella' 'Capella' 'Capella'\\n 'Capella' 'Capella' 'Capella' 'Capella' 'Capella' 'Capella' 'Capella'\\n 'Capella' 'Capella' 'Capella' 'Capella' 'Capella' 'Capella' 'Capella'\\n 'Capella' 'Capella' 'Plinius' 'Plinius' 'Capella' 'Capella' 'Plinius'\\n 'Capella' 'Capella' 'Capella' 'Capella' 'Capella' 'Capella' 'Capella'\\n 'Capella' 'Capella' 'Capella' 'Capella' 'Capella' 'Capella' 'Capella'\\n 'Capella' 'Capella' 'Capella' 'Capella' 'Capella' 'Capella' 'Capella'\\n 'Capella' 'Capella' 'Capella' 'Capella' 'Capella' 'Capella' 'Capella'\\n 'Capella' 'Capella' 'Capella' 'Capella' 'Capella' 'Capella' 'Capella'\\n 'Capella' 'Capella' 'Capella' 'Capella' 'Capella' 'Capella' 'Capella'\\n 'Capella' 'Capella' 'Capella' 'Capella' 'Capella' 'Capella' 'Capella'\\n 'Capella' 'Capella' 'Capella' 'Capella' 'Capella' 'Capella' 'Capella'\\n 'Capella' 'Capella' 'Capella' 'Capella' 'Capella' 'Capella' 'Capella'\\n 'Capella'] not in index\""
     ]
    }
   ],
   "source": [
    "Zahlen für alle Autoren"
   ]
  },
  {
   "cell_type": "markdown",
   "metadata": {},
   "source": [
    "## String matching und processing\n",
    "\n",
    "http://pandas.pydata.org/pandas-docs/stable/text.html#text-string-methods"
   ]
  },
  {
   "cell_type": "markdown",
   "metadata": {},
   "source": [
    "## Reshaping Pivot Tabellen\n",
    "\n",
    "http://www.nikgrozev.org/2015/07/01/reshaping-in-pandas-pivot-pivot-table-stack-and-unstack-explained-with-pictures/\n",
    "\n",
    "http://pandas.pydata.org/pandas-docs/stable/reshaping.html#reshaping-stacking"
   ]
  },
  {
   "cell_type": "code",
   "execution_count": 165,
   "metadata": {
    "collapsed": false
   },
   "outputs": [
    {
     "ename": "DataError",
     "evalue": "No numeric types to aggregate",
     "output_type": "error",
     "traceback": [
      "\u001b[0;31m---------------------------------------------------------------------------\u001b[0m",
      "\u001b[0;31mDataError\u001b[0m                                 Traceback (most recent call last)",
      "\u001b[0;32m<ipython-input-165-28025260fd55>\u001b[0m in \u001b[0;36m<module>\u001b[0;34m()\u001b[0m\n\u001b[0;32m----> 1\u001b[0;31m \u001b[0mpd\u001b[0m\u001b[0;34m.\u001b[0m\u001b[0mpivot_table\u001b[0m\u001b[0;34m(\u001b[0m\u001b[0mdiagrams\u001b[0m\u001b[0;34m,\u001b[0m\u001b[0mindex\u001b[0m\u001b[0;34m=\u001b[0m\u001b[0;34m[\u001b[0m\u001b[0;34m'textID'\u001b[0m\u001b[0;34m,\u001b[0m\u001b[0;34m'diaID'\u001b[0m\u001b[0;34m]\u001b[0m\u001b[0;34m)\u001b[0m\u001b[0;34m\u001b[0m\u001b[0m\n\u001b[0m",
      "\u001b[0;32m/Users/gerdgrasshoff/anaconda/lib/python3.5/site-packages/pandas/tools/pivot.py\u001b[0m in \u001b[0;36mpivot_table\u001b[0;34m(data, values, index, columns, aggfunc, fill_value, margins, dropna, margins_name)\u001b[0m\n\u001b[1;32m    119\u001b[0m \u001b[0;34m\u001b[0m\u001b[0m\n\u001b[1;32m    120\u001b[0m     \u001b[0mgrouped\u001b[0m \u001b[0;34m=\u001b[0m \u001b[0mdata\u001b[0m\u001b[0;34m.\u001b[0m\u001b[0mgroupby\u001b[0m\u001b[0;34m(\u001b[0m\u001b[0mkeys\u001b[0m\u001b[0;34m)\u001b[0m\u001b[0;34m\u001b[0m\u001b[0m\n\u001b[0;32m--> 121\u001b[0;31m     \u001b[0magged\u001b[0m \u001b[0;34m=\u001b[0m \u001b[0mgrouped\u001b[0m\u001b[0;34m.\u001b[0m\u001b[0magg\u001b[0m\u001b[0;34m(\u001b[0m\u001b[0maggfunc\u001b[0m\u001b[0;34m)\u001b[0m\u001b[0;34m\u001b[0m\u001b[0m\n\u001b[0m\u001b[1;32m    122\u001b[0m \u001b[0;34m\u001b[0m\u001b[0m\n\u001b[1;32m    123\u001b[0m     \u001b[0mtable\u001b[0m \u001b[0;34m=\u001b[0m \u001b[0magged\u001b[0m\u001b[0;34m\u001b[0m\u001b[0m\n",
      "\u001b[0;32m/Users/gerdgrasshoff/anaconda/lib/python3.5/site-packages/pandas/core/groupby.py\u001b[0m in \u001b[0;36maggregate\u001b[0;34m(self, arg, *args, **kwargs)\u001b[0m\n\u001b[1;32m   3595\u001b[0m     \u001b[0;34m@\u001b[0m\u001b[0mAppender\u001b[0m\u001b[0;34m(\u001b[0m\u001b[0mSelectionMixin\u001b[0m\u001b[0;34m.\u001b[0m\u001b[0m_agg_doc\u001b[0m\u001b[0;34m)\u001b[0m\u001b[0;34m\u001b[0m\u001b[0m\n\u001b[1;32m   3596\u001b[0m     \u001b[0;32mdef\u001b[0m \u001b[0maggregate\u001b[0m\u001b[0;34m(\u001b[0m\u001b[0mself\u001b[0m\u001b[0;34m,\u001b[0m \u001b[0marg\u001b[0m\u001b[0;34m,\u001b[0m \u001b[0;34m*\u001b[0m\u001b[0margs\u001b[0m\u001b[0;34m,\u001b[0m \u001b[0;34m**\u001b[0m\u001b[0mkwargs\u001b[0m\u001b[0;34m)\u001b[0m\u001b[0;34m:\u001b[0m\u001b[0;34m\u001b[0m\u001b[0m\n\u001b[0;32m-> 3597\u001b[0;31m         \u001b[0;32mreturn\u001b[0m \u001b[0msuper\u001b[0m\u001b[0;34m(\u001b[0m\u001b[0mDataFrameGroupBy\u001b[0m\u001b[0;34m,\u001b[0m \u001b[0mself\u001b[0m\u001b[0;34m)\u001b[0m\u001b[0;34m.\u001b[0m\u001b[0maggregate\u001b[0m\u001b[0;34m(\u001b[0m\u001b[0marg\u001b[0m\u001b[0;34m,\u001b[0m \u001b[0;34m*\u001b[0m\u001b[0margs\u001b[0m\u001b[0;34m,\u001b[0m \u001b[0;34m**\u001b[0m\u001b[0mkwargs\u001b[0m\u001b[0;34m)\u001b[0m\u001b[0;34m\u001b[0m\u001b[0m\n\u001b[0m\u001b[1;32m   3598\u001b[0m \u001b[0;34m\u001b[0m\u001b[0m\n\u001b[1;32m   3599\u001b[0m     \u001b[0magg\u001b[0m \u001b[0;34m=\u001b[0m \u001b[0maggregate\u001b[0m\u001b[0;34m\u001b[0m\u001b[0m\n",
      "\u001b[0;32m/Users/gerdgrasshoff/anaconda/lib/python3.5/site-packages/pandas/core/groupby.py\u001b[0m in \u001b[0;36maggregate\u001b[0;34m(self, arg, *args, **kwargs)\u001b[0m\n\u001b[1;32m   3112\u001b[0m \u001b[0;34m\u001b[0m\u001b[0m\n\u001b[1;32m   3113\u001b[0m         \u001b[0m_level\u001b[0m \u001b[0;34m=\u001b[0m \u001b[0mkwargs\u001b[0m\u001b[0;34m.\u001b[0m\u001b[0mpop\u001b[0m\u001b[0;34m(\u001b[0m\u001b[0;34m'_level'\u001b[0m\u001b[0;34m,\u001b[0m \u001b[0;32mNone\u001b[0m\u001b[0;34m)\u001b[0m\u001b[0;34m\u001b[0m\u001b[0m\n\u001b[0;32m-> 3114\u001b[0;31m         \u001b[0mresult\u001b[0m\u001b[0;34m,\u001b[0m \u001b[0mhow\u001b[0m \u001b[0;34m=\u001b[0m \u001b[0mself\u001b[0m\u001b[0;34m.\u001b[0m\u001b[0m_aggregate\u001b[0m\u001b[0;34m(\u001b[0m\u001b[0marg\u001b[0m\u001b[0;34m,\u001b[0m \u001b[0m_level\u001b[0m\u001b[0;34m=\u001b[0m\u001b[0m_level\u001b[0m\u001b[0;34m,\u001b[0m \u001b[0;34m*\u001b[0m\u001b[0margs\u001b[0m\u001b[0;34m,\u001b[0m \u001b[0;34m**\u001b[0m\u001b[0mkwargs\u001b[0m\u001b[0;34m)\u001b[0m\u001b[0;34m\u001b[0m\u001b[0m\n\u001b[0m\u001b[1;32m   3115\u001b[0m         \u001b[0;32mif\u001b[0m \u001b[0mhow\u001b[0m \u001b[0;32mis\u001b[0m \u001b[0;32mNone\u001b[0m\u001b[0;34m:\u001b[0m\u001b[0;34m\u001b[0m\u001b[0m\n\u001b[1;32m   3116\u001b[0m             \u001b[0;32mreturn\u001b[0m \u001b[0mresult\u001b[0m\u001b[0;34m\u001b[0m\u001b[0m\n",
      "\u001b[0;32m/Users/gerdgrasshoff/anaconda/lib/python3.5/site-packages/pandas/core/base.py\u001b[0m in \u001b[0;36m_aggregate\u001b[0;34m(self, arg, *args, **kwargs)\u001b[0m\n\u001b[1;32m    426\u001b[0m         \u001b[0m_level\u001b[0m \u001b[0;34m=\u001b[0m \u001b[0mkwargs\u001b[0m\u001b[0;34m.\u001b[0m\u001b[0mpop\u001b[0m\u001b[0;34m(\u001b[0m\u001b[0;34m'_level'\u001b[0m\u001b[0;34m,\u001b[0m \u001b[0;32mNone\u001b[0m\u001b[0;34m)\u001b[0m\u001b[0;34m\u001b[0m\u001b[0m\n\u001b[1;32m    427\u001b[0m         \u001b[0;32mif\u001b[0m \u001b[0misinstance\u001b[0m\u001b[0;34m(\u001b[0m\u001b[0marg\u001b[0m\u001b[0;34m,\u001b[0m \u001b[0mcompat\u001b[0m\u001b[0;34m.\u001b[0m\u001b[0mstring_types\u001b[0m\u001b[0;34m)\u001b[0m\u001b[0;34m:\u001b[0m\u001b[0;34m\u001b[0m\u001b[0m\n\u001b[0;32m--> 428\u001b[0;31m             \u001b[0;32mreturn\u001b[0m \u001b[0mgetattr\u001b[0m\u001b[0;34m(\u001b[0m\u001b[0mself\u001b[0m\u001b[0;34m,\u001b[0m \u001b[0marg\u001b[0m\u001b[0;34m)\u001b[0m\u001b[0;34m(\u001b[0m\u001b[0;34m*\u001b[0m\u001b[0margs\u001b[0m\u001b[0;34m,\u001b[0m \u001b[0;34m**\u001b[0m\u001b[0mkwargs\u001b[0m\u001b[0;34m)\u001b[0m\u001b[0;34m,\u001b[0m \u001b[0;32mNone\u001b[0m\u001b[0;34m\u001b[0m\u001b[0m\n\u001b[0m\u001b[1;32m    429\u001b[0m \u001b[0;34m\u001b[0m\u001b[0m\n\u001b[1;32m    430\u001b[0m         \u001b[0;32mif\u001b[0m \u001b[0misinstance\u001b[0m\u001b[0;34m(\u001b[0m\u001b[0marg\u001b[0m\u001b[0;34m,\u001b[0m \u001b[0mdict\u001b[0m\u001b[0;34m)\u001b[0m\u001b[0;34m:\u001b[0m\u001b[0;34m\u001b[0m\u001b[0m\n",
      "\u001b[0;32m/Users/gerdgrasshoff/anaconda/lib/python3.5/site-packages/pandas/core/groupby.py\u001b[0m in \u001b[0;36mmean\u001b[0;34m(self)\u001b[0m\n\u001b[1;32m    962\u001b[0m         \"\"\"\n\u001b[1;32m    963\u001b[0m         \u001b[0;32mtry\u001b[0m\u001b[0;34m:\u001b[0m\u001b[0;34m\u001b[0m\u001b[0m\n\u001b[0;32m--> 964\u001b[0;31m             \u001b[0;32mreturn\u001b[0m \u001b[0mself\u001b[0m\u001b[0;34m.\u001b[0m\u001b[0m_cython_agg_general\u001b[0m\u001b[0;34m(\u001b[0m\u001b[0;34m'mean'\u001b[0m\u001b[0;34m)\u001b[0m\u001b[0;34m\u001b[0m\u001b[0m\n\u001b[0m\u001b[1;32m    965\u001b[0m         \u001b[0;32mexcept\u001b[0m \u001b[0mGroupByError\u001b[0m\u001b[0;34m:\u001b[0m\u001b[0;34m\u001b[0m\u001b[0m\n\u001b[1;32m    966\u001b[0m             \u001b[0;32mraise\u001b[0m\u001b[0;34m\u001b[0m\u001b[0m\n",
      "\u001b[0;32m/Users/gerdgrasshoff/anaconda/lib/python3.5/site-packages/pandas/core/groupby.py\u001b[0m in \u001b[0;36m_cython_agg_general\u001b[0;34m(self, how, numeric_only)\u001b[0m\n\u001b[1;32m   3046\u001b[0m     \u001b[0;32mdef\u001b[0m \u001b[0m_cython_agg_general\u001b[0m\u001b[0;34m(\u001b[0m\u001b[0mself\u001b[0m\u001b[0;34m,\u001b[0m \u001b[0mhow\u001b[0m\u001b[0;34m,\u001b[0m \u001b[0mnumeric_only\u001b[0m\u001b[0;34m=\u001b[0m\u001b[0;32mTrue\u001b[0m\u001b[0;34m)\u001b[0m\u001b[0;34m:\u001b[0m\u001b[0;34m\u001b[0m\u001b[0m\n\u001b[1;32m   3047\u001b[0m         new_items, new_blocks = self._cython_agg_blocks(\n\u001b[0;32m-> 3048\u001b[0;31m             how, numeric_only=numeric_only)\n\u001b[0m\u001b[1;32m   3049\u001b[0m         \u001b[0;32mreturn\u001b[0m \u001b[0mself\u001b[0m\u001b[0;34m.\u001b[0m\u001b[0m_wrap_agged_blocks\u001b[0m\u001b[0;34m(\u001b[0m\u001b[0mnew_items\u001b[0m\u001b[0;34m,\u001b[0m \u001b[0mnew_blocks\u001b[0m\u001b[0;34m)\u001b[0m\u001b[0;34m\u001b[0m\u001b[0m\n\u001b[1;32m   3050\u001b[0m \u001b[0;34m\u001b[0m\u001b[0m\n",
      "\u001b[0;32m/Users/gerdgrasshoff/anaconda/lib/python3.5/site-packages/pandas/core/groupby.py\u001b[0m in \u001b[0;36m_cython_agg_blocks\u001b[0;34m(self, how, numeric_only)\u001b[0m\n\u001b[1;32m   3092\u001b[0m \u001b[0;34m\u001b[0m\u001b[0m\n\u001b[1;32m   3093\u001b[0m         \u001b[0;32mif\u001b[0m \u001b[0mlen\u001b[0m\u001b[0;34m(\u001b[0m\u001b[0mnew_blocks\u001b[0m\u001b[0;34m)\u001b[0m \u001b[0;34m==\u001b[0m \u001b[0;36m0\u001b[0m\u001b[0;34m:\u001b[0m\u001b[0;34m\u001b[0m\u001b[0m\n\u001b[0;32m-> 3094\u001b[0;31m             \u001b[0;32mraise\u001b[0m \u001b[0mDataError\u001b[0m\u001b[0;34m(\u001b[0m\u001b[0;34m'No numeric types to aggregate'\u001b[0m\u001b[0;34m)\u001b[0m\u001b[0;34m\u001b[0m\u001b[0m\n\u001b[0m\u001b[1;32m   3095\u001b[0m \u001b[0;34m\u001b[0m\u001b[0m\n\u001b[1;32m   3096\u001b[0m         \u001b[0;32mreturn\u001b[0m \u001b[0mdata\u001b[0m\u001b[0;34m.\u001b[0m\u001b[0mitems\u001b[0m\u001b[0;34m,\u001b[0m \u001b[0mnew_blocks\u001b[0m\u001b[0;34m\u001b[0m\u001b[0m\n",
      "\u001b[0;31mDataError\u001b[0m: No numeric types to aggregate"
     ]
    }
   ],
   "source": [
    "pd.pivot_table(diagrams,index=['textID','diaID'])"
   ]
  }
 ],
 "metadata": {
  "anaconda-cloud": {},
  "kernelspec": {
   "display_name": "Python [Root]",
   "language": "python",
   "name": "Python [Root]"
  },
  "language_info": {
   "codemirror_mode": {
    "name": "ipython",
    "version": 3
   },
   "file_extension": ".py",
   "mimetype": "text/x-python",
   "name": "python",
   "nbconvert_exporter": "python",
   "pygments_lexer": "ipython3",
   "version": "3.5.2"
  }
 },
 "nbformat": 4,
 "nbformat_minor": 0
}
