{
 "cells": [
  {
   "cell_type": "markdown",
   "metadata": {},
   "source": [
    "# Data handling\n",
    "## Lesen von Daten, Import"
   ]
  },
  {
   "cell_type": "code",
   "execution_count": 40,
   "metadata": {
    "collapsed": true
   },
   "outputs": [],
   "source": [
    "import json\n",
    "import pandas as pd"
   ]
  },
  {
   "cell_type": "code",
   "execution_count": 41,
   "metadata": {
    "collapsed": false
   },
   "outputs": [],
   "source": [
    "diagrams=pd.read_json('diaattr.json')"
   ]
  },
  {
   "cell_type": "code",
   "execution_count": 42,
   "metadata": {
    "collapsed": false
   },
   "outputs": [
    {
     "data": {
      "text/html": [
       "<div>\n",
       "<table border=\"1\" class=\"dataframe\">\n",
       "  <thead>\n",
       "    <tr style=\"text-align: right;\">\n",
       "      <th></th>\n",
       "      <th>altID</th>\n",
       "      <th>author</th>\n",
       "      <th>biblio</th>\n",
       "      <th>diaAttr</th>\n",
       "      <th>diaID</th>\n",
       "      <th>diaTyp</th>\n",
       "      <th>diaURL</th>\n",
       "      <th>foliopage</th>\n",
       "      <th>manID</th>\n",
       "      <th>manURL</th>\n",
       "      <th>textID</th>\n",
       "      <th>textURL</th>\n",
       "      <th>year</th>\n",
       "    </tr>\n",
       "  </thead>\n",
       "  <tbody>\n",
       "    <tr>\n",
       "      <th>0</th>\n",
       "      <td>Plin4</td>\n",
       "      <td>Plinius</td>\n",
       "      <td>Vaticano BAV, Ross. 247</td>\n",
       "      <td>[{'M2.1': 1, 'M2.19': 1, 'M2.10': 1, 'M2.12': ...</td>\n",
       "      <td>MAPD0668</td>\n",
       "      <td>2</td>\n",
       "      <td>Dl_1&amp;pn=396&amp;dw=1858&amp;dh=901&amp;ww=0.8926&amp;wh=0.6552...</td>\n",
       "      <td>200v</td>\n",
       "      <td>DL(1)</td>\n",
       "      <td>Dl_1&amp;pn=1</td>\n",
       "      <td>DL(1)_A</td>\n",
       "      <td></td>\n",
       "      <td>IX</td>\n",
       "    </tr>\n",
       "  </tbody>\n",
       "</table>\n",
       "</div>"
      ],
      "text/plain": [
       "   altID   author                   biblio  \\\n",
       "0  Plin4  Plinius  Vaticano BAV, Ross. 247   \n",
       "\n",
       "                                             diaAttr     diaID diaTyp  \\\n",
       "0  [{'M2.1': 1, 'M2.19': 1, 'M2.10': 1, 'M2.12': ...  MAPD0668      2   \n",
       "\n",
       "                                              diaURL foliopage  manID  \\\n",
       "0  Dl_1&pn=396&dw=1858&dh=901&ww=0.8926&wh=0.6552...      200v  DL(1)   \n",
       "\n",
       "      manURL   textID textURL year  \n",
       "0  Dl_1&pn=1  DL(1)_A           IX  "
      ]
     },
     "execution_count": 42,
     "metadata": {},
     "output_type": "execute_result"
    }
   ],
   "source": [
    "diagrams.head(1)"
   ]
  },
  {
   "cell_type": "code",
   "execution_count": 43,
   "metadata": {
    "collapsed": false
   },
   "outputs": [
    {
     "data": {
      "text/plain": [
       "Index(['altID', 'author', 'biblio', 'diaAttr', 'diaID', 'diaTyp', 'diaURL',\n",
       "       'foliopage', 'manID', 'manURL', 'textID', 'textURL', 'year'],\n",
       "      dtype='object')"
      ]
     },
     "execution_count": 43,
     "metadata": {},
     "output_type": "execute_result"
    }
   ],
   "source": [
    "diagrams.columns"
   ]
  },
  {
   "cell_type": "code",
   "execution_count": 7,
   "metadata": {
    "collapsed": false
   },
   "outputs": [],
   "source": [
    "with open('diaattr.json') as f:\n",
    "    diagrams=json.load(f)"
   ]
  },
  {
   "cell_type": "markdown",
   "metadata": {},
   "source": [
    "### Indizes, Subsets"
   ]
  },
  {
   "cell_type": "markdown",
   "metadata": {},
   "source": [
    "Einzelne Zeilen mit *loc* und *iloc*"
   ]
  },
  {
   "cell_type": "code",
   "execution_count": 38,
   "metadata": {
    "collapsed": false
   },
   "outputs": [
    {
     "data": {
      "text/plain": [
       "altID                                                    Plin6\n",
       "author                                                 Plinius\n",
       "biblio                                         Paris BN, 11130\n",
       "diaAttr      [{'M2.1': 1, 'M2.19': 1, 'M2.10': 1, 'M2.12': ...\n",
       "diaID                                                 MAPD0690\n",
       "diaTyp                                                       2\n",
       "diaURL            Jk_2&pn=1&dw=1858&dh=901&ww=1&wh=1&wx=0&wy=0\n",
       "foliopage                                                  74v\n",
       "manID                                                    JK(2)\n",
       "manURL                                               Jk_2&pn=1\n",
       "textID                                                 JK(2)_A\n",
       "textURL                                                       \n",
       "year                                                       XII\n",
       "Name: 4, dtype: object"
      ]
     },
     "execution_count": 38,
     "metadata": {},
     "output_type": "execute_result"
    }
   ],
   "source": [
    "diagrams.loc[4]"
   ]
  },
  {
   "cell_type": "code",
   "execution_count": 51,
   "metadata": {
    "collapsed": false
   },
   "outputs": [
    {
     "data": {
      "text/plain": [
       "0      MAPD0668\n",
       "1      MAPD0670\n",
       "2      MAPD0698\n",
       "3      MAPD0714\n",
       "4      MAPD0690\n",
       "5      MAPD0717\n",
       "6      MAPD0677\n",
       "7      MAPD0699\n",
       "8      MAPD0700\n",
       "9      MAPD0718\n",
       "10     MAPD0680\n",
       "11     MAPD0701\n",
       "12     MAPD0711\n",
       "13     MAPD0720\n",
       "14     MAPD0632\n",
       "15     MAPD0683\n",
       "16     MAPD0722\n",
       "18     MAPD0628\n",
       "19     MAPD0734\n",
       "20     MAPD0641\n",
       "21     MAPD0669\n",
       "22     MAPD0704\n",
       "23     MAPD0727\n",
       "24     MAPD0643\n",
       "25     MAPD0728\n",
       "26     MAPD0644\n",
       "27     MAPD0645\n",
       "28     MAPD0647\n",
       "29     MAPD0651\n",
       "30     MAPD0656\n",
       "         ...   \n",
       "381    MAPD0676\n",
       "390    MAPD0652\n",
       "403    MAPD0629\n",
       "404    MAPD0630\n",
       "405    MAPD0691\n",
       "444    MAPD0707\n",
       "511    MAPD0627\n",
       "512    MAPD0666\n",
       "514    MAPD0637\n",
       "515    MAPD0646\n",
       "516    MAPD0667\n",
       "517    MAPD0702\n",
       "518    MAPD0725\n",
       "532    MAPD0638\n",
       "533    MAPD0657\n",
       "534    MAPD0686\n",
       "535    MAPD0703\n",
       "536    MAPD0726\n",
       "539    MAPD0639\n",
       "545    MAPD0672\n",
       "547    MAPD0642\n",
       "548    MAPD0687\n",
       "549    MAPD0705\n",
       "552    MAPD0640\n",
       "554    MAPD0689\n",
       "555    MAPD0729\n",
       "560    MAPD0653\n",
       "652    MAPD0648\n",
       "653    MAPD0649\n",
       "656    MAPD0385\n",
       "Name: diaID, dtype: object"
      ]
     },
     "execution_count": 51,
     "metadata": {},
     "output_type": "execute_result"
    }
   ],
   "source": [
    "diagrams.ix[diagrams.author==\"Plinius\"].diaID"
   ]
  },
  {
   "cell_type": "markdown",
   "metadata": {},
   "source": [
    "## Aufruf von keys\n",
    "Auf objekte rufen keys die Menge der Werte dieser Keys auf"
   ]
  },
  {
   "cell_type": "code",
   "execution_count": 49,
   "metadata": {
    "collapsed": false
   },
   "outputs": [
    {
     "data": {
      "text/plain": [
       "12    Plinius\n",
       "14    Plinius\n",
       "16    Plinius\n",
       "18    Plinius\n",
       "20    Plinius\n",
       "Name: author, dtype: object"
      ]
     },
     "execution_count": 49,
     "metadata": {},
     "output_type": "execute_result"
    }
   ],
   "source": [
    "diagrams.loc[12:20:2].author"
   ]
  },
  {
   "cell_type": "code",
   "execution_count": null,
   "metadata": {
    "collapsed": true
   },
   "outputs": [],
   "source": []
  }
 ],
 "metadata": {
  "anaconda-cloud": {},
  "kernelspec": {
   "display_name": "Python [Root]",
   "language": "python",
   "name": "Python [Root]"
  },
  "language_info": {
   "codemirror_mode": {
    "name": "ipython",
    "version": 3
   },
   "file_extension": ".py",
   "mimetype": "text/x-python",
   "name": "python",
   "nbconvert_exporter": "python",
   "pygments_lexer": "ipython3",
   "version": "3.5.2"
  }
 },
 "nbformat": 4,
 "nbformat_minor": 0
}
