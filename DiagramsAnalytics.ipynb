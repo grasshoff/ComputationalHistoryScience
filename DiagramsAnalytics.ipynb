{
 "cells": [
  {
   "cell_type": "markdown",
   "metadata": {},
   "source": [
    "# Import der Medieval Diagramm Datenbank"
   ]
  },
  {
   "cell_type": "code",
   "execution_count": 2,
   "metadata": {
    "collapsed": true
   },
   "outputs": [],
   "source": [
    "import pandas as pd"
   ]
  },
  {
   "cell_type": "code",
   "execution_count": 5,
   "metadata": {
    "collapsed": false
   },
   "outputs": [
    {
     "data": {
      "text/html": [
       "<div>\n",
       "<table border=\"1\" class=\"dataframe\">\n",
       "  <thead>\n",
       "    <tr style=\"text-align: right;\">\n",
       "      <th></th>\n",
       "      <th>altID</th>\n",
       "      <th>author</th>\n",
       "      <th>biblio</th>\n",
       "      <th>diaAttr</th>\n",
       "      <th>diaID</th>\n",
       "      <th>diaTyp</th>\n",
       "      <th>diaURL</th>\n",
       "      <th>foliopage</th>\n",
       "      <th>manID</th>\n",
       "      <th>manURL</th>\n",
       "      <th>textID</th>\n",
       "      <th>textURL</th>\n",
       "      <th>year</th>\n",
       "    </tr>\n",
       "  </thead>\n",
       "  <tbody>\n",
       "    <tr>\n",
       "      <th>0</th>\n",
       "      <td>Plin4</td>\n",
       "      <td>Plinius</td>\n",
       "      <td>Vaticano BAV, Ross. 247</td>\n",
       "      <td>[{'M2.18': 1, 'M2.20': 0, 'M2.1': 1, 'M2.11': ...</td>\n",
       "      <td>MAPD0668</td>\n",
       "      <td>2</td>\n",
       "      <td>Dl_1&amp;pn=396&amp;dw=1858&amp;dh=901&amp;ww=0.8926&amp;wh=0.6552...</td>\n",
       "      <td>200v</td>\n",
       "      <td>DL(1)</td>\n",
       "      <td>Dl_1&amp;pn=1</td>\n",
       "      <td>DL(1)_A</td>\n",
       "      <td></td>\n",
       "      <td>IX</td>\n",
       "    </tr>\n",
       "  </tbody>\n",
       "</table>\n",
       "</div>"
      ],
      "text/plain": [
       "   altID   author                   biblio  \\\n",
       "0  Plin4  Plinius  Vaticano BAV, Ross. 247   \n",
       "\n",
       "                                             diaAttr     diaID diaTyp  \\\n",
       "0  [{'M2.18': 1, 'M2.20': 0, 'M2.1': 1, 'M2.11': ...  MAPD0668      2   \n",
       "\n",
       "                                              diaURL foliopage  manID  \\\n",
       "0  Dl_1&pn=396&dw=1858&dh=901&ww=0.8926&wh=0.6552...      200v  DL(1)   \n",
       "\n",
       "      manURL   textID textURL year  \n",
       "0  Dl_1&pn=1  DL(1)_A           IX  "
      ]
     },
     "execution_count": 5,
     "metadata": {},
     "output_type": "execute_result"
    }
   ],
   "source": [
    "url = 'https://raw.githubusercontent.com/grasshoff/ComputationalHistoryScience/master/diaattr.json'\n",
    "diagrams = pd.read_json(url)\n",
    "diagrams.head(1)"
   ]
  },
  {
   "cell_type": "markdown",
   "metadata": {},
   "source": [
    "## Struktur der Datenbank"
   ]
  },
  {
   "cell_type": "code",
   "execution_count": 6,
   "metadata": {
    "collapsed": false
   },
   "outputs": [
    {
     "data": {
      "text/plain": [
       "altID                                                   Plin41\n",
       "author                                                 Plinius\n",
       "biblio                                 Vaticano BAV, Ross. 247\n",
       "diaAttr      [{'M3.15': 0, 'M3.22': 0, 'M3.9': 0, 'M3.36': ...\n",
       "diaID                                                 MAPD0670\n",
       "diaTyp                                                       3\n",
       "diaURL       Dl_1&pn=395&dw=1858&dh=901&ww=0.9617&wh=0.7723...\n",
       "foliopage                                                 200r\n",
       "manID                                                    DL(1)\n",
       "manURL                                               Dl_1&pn=1\n",
       "textID                                                 DL(1)_A\n",
       "textURL                                                       \n",
       "year                                                        IX\n",
       "Name: 1, dtype: object"
      ]
     },
     "execution_count": 6,
     "metadata": {},
     "output_type": "execute_result"
    }
   ],
   "source": [
    "diagrams.loc[1]"
   ]
  },
  {
   "cell_type": "markdown",
   "metadata": {},
   "source": [
    "## Serien, Untermengen definieren"
   ]
  },
  {
   "cell_type": "code",
   "execution_count": 7,
   "metadata": {
    "collapsed": false
   },
   "outputs": [
    {
     "data": {
      "text/plain": [
       "{'Calcidius', 'Capella', 'Macrobius', 'Plinius'}"
      ]
     },
     "execution_count": 7,
     "metadata": {},
     "output_type": "execute_result"
    }
   ],
   "source": [
    "listeAutoren=pd.Series(diagrams[\"author\"])\n",
    "setAutoren=set(listeAutoren)\n",
    "setAutoren"
   ]
  },
  {
   "cell_type": "code",
   "execution_count": 8,
   "metadata": {
    "collapsed": false
   },
   "outputs": [],
   "source": [
    "years=pd.Series(diagrams['year'])"
   ]
  },
  {
   "cell_type": "code",
   "execution_count": null,
   "metadata": {
    "collapsed": false
   },
   "outputs": [],
   "source": []
  },
  {
   "cell_type": "markdown",
   "metadata": {},
   "source": [
    "## Boolean selection"
   ]
  },
  {
   "cell_type": "code",
   "execution_count": 212,
   "metadata": {
    "collapsed": false
   },
   "outputs": [
    {
     "data": {
      "text/html": [
       "<div>\n",
       "<table border=\"1\" class=\"dataframe\">\n",
       "  <thead>\n",
       "    <tr style=\"text-align: right;\">\n",
       "      <th></th>\n",
       "      <th>altID</th>\n",
       "      <th>author</th>\n",
       "      <th>biblio</th>\n",
       "      <th>diaAttr</th>\n",
       "      <th>diaID</th>\n",
       "      <th>diaTyp</th>\n",
       "      <th>diaURL</th>\n",
       "      <th>foliopage</th>\n",
       "      <th>manID</th>\n",
       "      <th>manURL</th>\n",
       "      <th>textID</th>\n",
       "      <th>textURL</th>\n",
       "      <th>year</th>\n",
       "    </tr>\n",
       "  </thead>\n",
       "  <tbody>\n",
       "    <tr>\n",
       "      <th>17</th>\n",
       "      <td>Macr9</td>\n",
       "      <td>Macrobius</td>\n",
       "      <td>Berlin SB, Phillipps 1833</td>\n",
       "      <td>[{'M8.29': 0, 'M8.3': 1, 'M8.14': 0, 'M8.37': ...</td>\n",
       "      <td>MAPD0616</td>\n",
       "      <td>8</td>\n",
       "      <td>Qc_2&amp;pn=36&amp;dw=1858&amp;dh=901&amp;ww=0.2848&amp;wh=0.4941&amp;...</td>\n",
       "      <td>36r</td>\n",
       "      <td>QC(2)</td>\n",
       "      <td>Qc_2&amp;pn=1</td>\n",
       "      <td>QC(2)_A</td>\n",
       "      <td></td>\n",
       "      <td>XI(in)</td>\n",
       "    </tr>\n",
       "    <tr>\n",
       "      <th>334</th>\n",
       "      <td>Macr3</td>\n",
       "      <td>Macrobius</td>\n",
       "      <td>Admont StiB, Ms 514</td>\n",
       "      <td>[{'M8.29': 0, 'M8.3': 0, 'M8.14': 0, 'M8.37': ...</td>\n",
       "      <td>MAPD0550</td>\n",
       "      <td>8</td>\n",
       "      <td>Co_1&amp;pn=36&amp;dw=1858&amp;dh=901&amp;ww=0.3039&amp;wh=0.3625&amp;...</td>\n",
       "      <td>36r</td>\n",
       "      <td>CO(1)</td>\n",
       "      <td>Co_1&amp;pn=1</td>\n",
       "      <td>CO(1)_A</td>\n",
       "      <td></td>\n",
       "      <td>XII(ex)</td>\n",
       "    </tr>\n",
       "  </tbody>\n",
       "</table>\n",
       "</div>"
      ],
      "text/plain": [
       "     altID     author                     biblio  \\\n",
       "17   Macr9  Macrobius  Berlin SB, Phillipps 1833   \n",
       "334  Macr3  Macrobius        Admont StiB, Ms 514   \n",
       "\n",
       "                                               diaAttr     diaID diaTyp  \\\n",
       "17   [{'M8.29': 0, 'M8.3': 1, 'M8.14': 0, 'M8.37': ...  MAPD0616      8   \n",
       "334  [{'M8.29': 0, 'M8.3': 0, 'M8.14': 0, 'M8.37': ...  MAPD0550      8   \n",
       "\n",
       "                                                diaURL foliopage  manID  \\\n",
       "17   Qc_2&pn=36&dw=1858&dh=901&ww=0.2848&wh=0.4941&...       36r  QC(2)   \n",
       "334  Co_1&pn=36&dw=1858&dh=901&ww=0.3039&wh=0.3625&...       36r  CO(1)   \n",
       "\n",
       "        manURL   textID textURL     year  \n",
       "17   Qc_2&pn=1  QC(2)_A           XI(in)  \n",
       "334  Co_1&pn=1  CO(1)_A          XII(ex)  "
      ]
     },
     "execution_count": 212,
     "metadata": {},
     "output_type": "execute_result"
    }
   ],
   "source": [
    "diagrams[diagrams.diaTyp==8].head(2)"
   ]
  },
  {
   "cell_type": "markdown",
   "metadata": {},
   "source": [
    "## select partial string zeilen\n",
    "\n",
    "http://www.unknownerror.org/opensource/pydata/pandas/q/stackoverflow/11350770/pandas-dataframe-select-by-partial-string"
   ]
  },
  {
   "cell_type": "code",
   "execution_count": 9,
   "metadata": {
    "collapsed": false
   },
   "outputs": [],
   "source": [
    "dia9cent=diagrams[diagrams['year'].str.contains('IX')==True].head(3)"
   ]
  },
  {
   "cell_type": "code",
   "execution_count": 214,
   "metadata": {
    "collapsed": false
   },
   "outputs": [],
   "source": [
    "# see above answer\n",
    "def stringSearchColumn_DataFrame(df, colName, regex):\n",
    "    newdf = DataFrame()\n",
    "    for idx, record in df[colName].iteritems():\n",
    "\n",
    "        if re.search(regex, record):\n",
    "            newdf = concat([df[df[colName] == record], newdf], ignore_index=True)\n",
    "\n",
    "    return newdf"
   ]
  },
  {
   "cell_type": "code",
   "execution_count": 215,
   "metadata": {
    "collapsed": false
   },
   "outputs": [
    {
     "ename": "NameError",
     "evalue": "name 'DataFrame' is not defined",
     "output_type": "error",
     "traceback": [
      "\u001b[0;31m---------------------------------------------------------------------------\u001b[0m",
      "\u001b[0;31mNameError\u001b[0m                                 Traceback (most recent call last)",
      "\u001b[0;32m<ipython-input-215-a0506b485481>\u001b[0m in \u001b[0;36m<module>\u001b[0;34m()\u001b[0m\n\u001b[0;32m----> 1\u001b[0;31m \u001b[0mstringSearchColumn_DataFrame\u001b[0m\u001b[0;34m(\u001b[0m\u001b[0mdiagrams\u001b[0m\u001b[0;34m,\u001b[0m\u001b[0;34m'year'\u001b[0m\u001b[0;34m,\u001b[0m\u001b[0;34m'IX'\u001b[0m\u001b[0;34m)\u001b[0m\u001b[0;34m\u001b[0m\u001b[0m\n\u001b[0m",
      "\u001b[0;32m<ipython-input-214-e269764ef31f>\u001b[0m in \u001b[0;36mstringSearchColumn_DataFrame\u001b[0;34m(df, colName, regex)\u001b[0m\n\u001b[1;32m      1\u001b[0m \u001b[0;31m# see above answer\u001b[0m\u001b[0;34m\u001b[0m\u001b[0;34m\u001b[0m\u001b[0m\n\u001b[1;32m      2\u001b[0m \u001b[0;32mdef\u001b[0m \u001b[0mstringSearchColumn_DataFrame\u001b[0m\u001b[0;34m(\u001b[0m\u001b[0mdf\u001b[0m\u001b[0;34m,\u001b[0m \u001b[0mcolName\u001b[0m\u001b[0;34m,\u001b[0m \u001b[0mregex\u001b[0m\u001b[0;34m)\u001b[0m\u001b[0;34m:\u001b[0m\u001b[0;34m\u001b[0m\u001b[0m\n\u001b[0;32m----> 3\u001b[0;31m     \u001b[0mnewdf\u001b[0m \u001b[0;34m=\u001b[0m \u001b[0mDataFrame\u001b[0m\u001b[0;34m(\u001b[0m\u001b[0;34m)\u001b[0m\u001b[0;34m\u001b[0m\u001b[0m\n\u001b[0m\u001b[1;32m      4\u001b[0m     \u001b[0;32mfor\u001b[0m \u001b[0midx\u001b[0m\u001b[0;34m,\u001b[0m \u001b[0mrecord\u001b[0m \u001b[0;32min\u001b[0m \u001b[0mdf\u001b[0m\u001b[0;34m[\u001b[0m\u001b[0mcolName\u001b[0m\u001b[0;34m]\u001b[0m\u001b[0;34m.\u001b[0m\u001b[0miteritems\u001b[0m\u001b[0;34m(\u001b[0m\u001b[0;34m)\u001b[0m\u001b[0;34m:\u001b[0m\u001b[0;34m\u001b[0m\u001b[0m\n\u001b[1;32m      5\u001b[0m \u001b[0;34m\u001b[0m\u001b[0m\n",
      "\u001b[0;31mNameError\u001b[0m: name 'DataFrame' is not defined"
     ]
    }
   ],
   "source": [
    "stringSearchColumn_DataFrame(diagrams,'year','IX')"
   ]
  },
  {
   "cell_type": "markdown",
   "metadata": {},
   "source": [
    "# ?Komplexe boolean selection"
   ]
  },
  {
   "cell_type": "markdown",
   "metadata": {},
   "source": [
    "Selection mit *isin*"
   ]
  },
  {
   "cell_type": "code",
   "execution_count": null,
   "metadata": {
    "collapsed": false
   },
   "outputs": [],
   "source": [
    "diagrams[diagrams.year.isin(['XI'])].head(2)"
   ]
  },
  {
   "cell_type": "markdown",
   "metadata": {},
   "source": [
    "## Missing Data"
   ]
  },
  {
   "cell_type": "markdown",
   "metadata": {},
   "source": [
    "## Groupedby Partitionen"
   ]
  },
  {
   "cell_type": "code",
   "execution_count": null,
   "metadata": {
    "collapsed": false
   },
   "outputs": [],
   "source": [
    "gdia=diagrams.groupby('author').groups"
   ]
  },
  {
   "cell_type": "code",
   "execution_count": null,
   "metadata": {
    "collapsed": false
   },
   "outputs": [],
   "source": [
    "len(gdia['Capella'])"
   ]
  },
  {
   "cell_type": "code",
   "execution_count": null,
   "metadata": {
    "collapsed": false
   },
   "outputs": [],
   "source": [
    "for a in setAutoren:\n",
    "    print(a + \" =\",len(gdia[a]))"
   ]
  },
  {
   "cell_type": "markdown",
   "metadata": {},
   "source": [
    "# Operations auf Spalten von Dataframes"
   ]
  },
  {
   "cell_type": "markdown",
   "metadata": {},
   "source": [
    "## Setting\n",
    "Neue Spalten berechnen und einem Dataframe hinzufügen. Diese Funktion verändert den Datenframe *diagrams*"
   ]
  },
  {
   "cell_type": "markdown",
   "metadata": {},
   "source": [
    "diagrams.loc[:,\"neu\"]=len(diagrams)"
   ]
  },
  {
   "cell_type": "markdown",
   "metadata": {},
   "source": [
    "diagrams.head(1)"
   ]
  },
  {
   "cell_type": "markdown",
   "metadata": {},
   "source": [
    "## Zählen"
   ]
  },
  {
   "cell_type": "code",
   "execution_count": null,
   "metadata": {
    "collapsed": false
   },
   "outputs": [],
   "source": [
    "len(diagrams[diagrams.author=='Capella'])"
   ]
  },
  {
   "cell_type": "markdown",
   "metadata": {},
   "source": [
    "Zahlen für alle Autoren"
   ]
  },
  {
   "cell_type": "markdown",
   "metadata": {},
   "source": [
    "## String matching und processing\n",
    "\n",
    "http://pandas.pydata.org/pandas-docs/stable/text.html#text-string-methods"
   ]
  },
  {
   "cell_type": "code",
   "execution_count": null,
   "metadata": {
    "collapsed": false
   },
   "outputs": [],
   "source": [
    "listyears=set(diagrams['year'])\n",
    "listyears"
   ]
  },
  {
   "cell_type": "markdown",
   "metadata": {},
   "source": [
    "## .apply function with lambda function\n",
    "## .map oder .applymap\n",
    "http://pandas.pydata.org/pandas-docs/stable/basics.html#basics-string-methods"
   ]
  },
  {
   "cell_type": "code",
   "execution_count": 222,
   "metadata": {
    "collapsed": false
   },
   "outputs": [
    {
     "data": {
      "text/plain": [
       "0    2\n",
       "1    2\n",
       "2    2\n",
       "Name: year, dtype: int64"
      ]
     },
     "execution_count": 222,
     "metadata": {},
     "output_type": "execute_result"
    }
   ],
   "source": [
    "f1=lambda x: len(str(x))\n",
    "diagrams['year'].map(f1).head(3)"
   ]
  },
  {
   "cell_type": "code",
   "execution_count": 224,
   "metadata": {
    "collapsed": false
   },
   "outputs": [
    {
     "data": {
      "text/html": [
       "<div>\n",
       "<table border=\"1\" class=\"dataframe\">\n",
       "  <thead>\n",
       "    <tr style=\"text-align: right;\">\n",
       "      <th></th>\n",
       "      <th>altID</th>\n",
       "      <th>author</th>\n",
       "      <th>biblio</th>\n",
       "      <th>diaAttr</th>\n",
       "      <th>diaID</th>\n",
       "      <th>diaTyp</th>\n",
       "      <th>diaURL</th>\n",
       "      <th>foliopage</th>\n",
       "      <th>manID</th>\n",
       "      <th>manURL</th>\n",
       "      <th>textID</th>\n",
       "      <th>textURL</th>\n",
       "      <th>year</th>\n",
       "    </tr>\n",
       "  </thead>\n",
       "  <tbody>\n",
       "    <tr>\n",
       "      <th>0</th>\n",
       "      <td>5</td>\n",
       "      <td>7</td>\n",
       "      <td>23</td>\n",
       "      <td>269</td>\n",
       "      <td>8</td>\n",
       "      <td>3</td>\n",
       "      <td>66</td>\n",
       "      <td>4</td>\n",
       "      <td>5</td>\n",
       "      <td>9</td>\n",
       "      <td>7</td>\n",
       "      <td>0</td>\n",
       "      <td>2</td>\n",
       "    </tr>\n",
       "    <tr>\n",
       "      <th>1</th>\n",
       "      <td>6</td>\n",
       "      <td>7</td>\n",
       "      <td>23</td>\n",
       "      <td>449</td>\n",
       "      <td>8</td>\n",
       "      <td>3</td>\n",
       "      <td>64</td>\n",
       "      <td>4</td>\n",
       "      <td>5</td>\n",
       "      <td>9</td>\n",
       "      <td>7</td>\n",
       "      <td>0</td>\n",
       "      <td>2</td>\n",
       "    </tr>\n",
       "  </tbody>\n",
       "</table>\n",
       "</div>"
      ],
      "text/plain": [
       "   altID  author  biblio  diaAttr  diaID  diaTyp  diaURL  foliopage  manID  \\\n",
       "0      5       7      23      269      8       3      66          4      5   \n",
       "1      6       7      23      449      8       3      64          4      5   \n",
       "\n",
       "   manURL  textID  textURL  year  \n",
       "0       9       7        0     2  \n",
       "1       9       7        0     2  "
      ]
     },
     "execution_count": 224,
     "metadata": {},
     "output_type": "execute_result"
    }
   ],
   "source": [
    "diagrams.applymap(f1).head(2)"
   ]
  },
  {
   "cell_type": "code",
   "execution_count": 225,
   "metadata": {
    "collapsed": false
   },
   "outputs": [
    {
     "data": {
      "text/plain": [
       "0      9.0\n",
       "1      9.0\n",
       "2      9.0\n",
       "3      9.0\n",
       "4      NaN\n",
       "5      NaN\n",
       "6      NaN\n",
       "7      NaN\n",
       "8      NaN\n",
       "9      NaN\n",
       "10     NaN\n",
       "11     NaN\n",
       "12     NaN\n",
       "13     NaN\n",
       "14     NaN\n",
       "15     NaN\n",
       "16     NaN\n",
       "17     NaN\n",
       "18     NaN\n",
       "19     NaN\n",
       "20     NaN\n",
       "21     NaN\n",
       "22     NaN\n",
       "23     NaN\n",
       "24     NaN\n",
       "25     NaN\n",
       "26     NaN\n",
       "27     NaN\n",
       "28     NaN\n",
       "29     NaN\n",
       "      ... \n",
       "691    NaN\n",
       "692    NaN\n",
       "693    NaN\n",
       "694    9.0\n",
       "695    9.0\n",
       "696    9.0\n",
       "697    9.0\n",
       "698    9.0\n",
       "699    9.0\n",
       "700    9.0\n",
       "701    9.0\n",
       "702    9.0\n",
       "703    9.0\n",
       "704    9.0\n",
       "705    9.0\n",
       "706    NaN\n",
       "707    NaN\n",
       "708    NaN\n",
       "709    NaN\n",
       "710    NaN\n",
       "711    NaN\n",
       "712    NaN\n",
       "713    NaN\n",
       "714    NaN\n",
       "715    NaN\n",
       "716    NaN\n",
       "717    NaN\n",
       "718    NaN\n",
       "719    NaN\n",
       "720    NaN\n",
       "Name: year, dtype: float64"
      ]
     },
     "execution_count": 225,
     "metadata": {},
     "output_type": "execute_result"
    }
   ],
   "source": [
    "subtabelle=pd.Series({'IX':9.,'X':10.})\n",
    "diagrams['year'].map(subtabelle)"
   ]
  },
  {
   "cell_type": "markdown",
   "metadata": {},
   "source": [
    "## Reshaping Pivot Tabellen\n",
    "\n",
    "http://www.nikgrozev.org/2015/07/01/reshaping-in-pandas-pivot-pivot-table-stack-and-unstack-explained-with-pictures/\n",
    "\n",
    "http://pandas.pydata.org/pandas-docs/stable/reshaping.html#reshaping-stacking"
   ]
  },
  {
   "cell_type": "code",
   "execution_count": null,
   "metadata": {
    "collapsed": false
   },
   "outputs": [],
   "source": [
    "pd.pivot_table(diagrams,index=['textID','diaID'])"
   ]
  }
 ],
 "metadata": {
  "anaconda-cloud": {},
  "kernelspec": {
   "display_name": "Python [Root]",
   "language": "python",
   "name": "Python [Root]"
  },
  "language_info": {
   "codemirror_mode": {
    "name": "ipython",
    "version": 3
   },
   "file_extension": ".py",
   "mimetype": "text/x-python",
   "name": "python",
   "nbconvert_exporter": "python",
   "pygments_lexer": "ipython3",
   "version": "3.5.2"
  }
 },
 "nbformat": 4,
 "nbformat_minor": 0
}
